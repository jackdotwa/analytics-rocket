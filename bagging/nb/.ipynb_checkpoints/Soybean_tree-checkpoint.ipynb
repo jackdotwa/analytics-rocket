{
 "cells": [
  {
   "cell_type": "markdown",
   "metadata": {},
   "source": [
    "# Building a single tree"
   ]
  },
  {
   "cell_type": "code",
   "execution_count": 110,
   "metadata": {},
   "outputs": [],
   "source": [
    "import pandas as pd\n",
    "import numpy as np"
   ]
  },
  {
   "cell_type": "code",
   "execution_count": 116,
   "metadata": {},
   "outputs": [],
   "source": [
    "df_soybean = pd.read_csv('https://archive.ics.uci.edu/ml/machine-learning-databases/soybean/soybean-large.data',header=None)"
   ]
  },
  {
   "cell_type": "markdown",
   "metadata": {},
   "source": [
    "307 cases, 35 variables (observation on plants with some climatic variables) and 19 classes (soybean diseases)"
   ]
  },
  {
   "cell_type": "markdown",
   "metadata": {},
   "source": [
    "Attribute Information:\n",
    "\n",
    "1. date: april,may,june,july,august,september,october,?.\n",
    "2. plant-stand: normal,lt-normal,?.\n",
    "3. precip: lt-norm,norm,gt-norm,?.\n",
    "4. temp: lt-norm,norm,gt-norm,?.\n",
    "5. hail: yes,no,?.\n",
    "6. crop-hist: diff-lst-year,same-lst-yr,same-lst-two-yrs,\n",
    "same-lst-sev-yrs,?.\n",
    "7. area-damaged: scattered,low-areas,upper-areas,whole-field,?.\n",
    "8. severity: minor,pot-severe,severe,?.\n",
    "9. seed-tmt: none,fungicide,other,?.\n",
    "10. germination: 90-100%,80-89%,lt-80%,?.\n",
    "11. plant-growth: norm,abnorm,?.\n",
    "12. leaves: norm,abnorm.\n",
    "13. leafspots-halo: absent,yellow-halos,no-yellow-halos,?.\n",
    "14. leafspots-marg: w-s-marg,no-w-s-marg,dna,?.\n",
    "15. leafspot-size: lt-1/8,gt-1/8,dna,?.\n",
    "16. leaf-shread: absent,present,?.\n",
    "17. leaf-malf: absent,present,?.\n",
    "18. leaf-mild: absent,upper-surf,lower-surf,?.\n",
    "19. stem: norm,abnorm,?.\n",
    "20. lodging: yes,no,?.\n",
    "21. stem-cankers: absent,below-soil,above-soil,above-sec-nde,?.\n",
    "22. canker-lesion: dna,brown,dk-brown-blk,tan,?.\n",
    "23. fruiting-bodies: absent,present,?.\n",
    "24. external decay: absent,firm-and-dry,watery,?.\n",
    "25. mycelium: absent,present,?.\n",
    "26. int-discolor: none,brown,black,?.\n",
    "27. sclerotia: absent,present,?.\n",
    "28. fruit-pods: norm,diseased,few-present,dna,?.\n",
    "29. fruit spots: absent,colored,brown-w/blk-specks,distort,dna,?.\n",
    "30. seed: norm,abnorm,?.\n",
    "31. mold-growth: absent,present,?.\n",
    "32. seed-discolor: absent,present,?.\n",
    "33. seed-size: norm,lt-norm,?.\n",
    "34. shriveling: absent,present,?.\n",
    "35. roots: norm,rotted,galls-cysts,?."
   ]
  },
  {
   "cell_type": "markdown",
   "metadata": {},
   "source": [
    "[https://archive.ics.uci.edu/ml/datasets/soybean+(small)]"
   ]
  },
  {
   "cell_type": "code",
   "execution_count": 117,
   "metadata": {},
   "outputs": [
    {
     "data": {
      "text/html": [
       "<div>\n",
       "<style scoped>\n",
       "    .dataframe tbody tr th:only-of-type {\n",
       "        vertical-align: middle;\n",
       "    }\n",
       "\n",
       "    .dataframe tbody tr th {\n",
       "        vertical-align: top;\n",
       "    }\n",
       "\n",
       "    .dataframe thead th {\n",
       "        text-align: right;\n",
       "    }\n",
       "</style>\n",
       "<table border=\"1\" class=\"dataframe\">\n",
       "  <thead>\n",
       "    <tr style=\"text-align: right;\">\n",
       "      <th></th>\n",
       "      <th>0</th>\n",
       "      <th>1</th>\n",
       "      <th>2</th>\n",
       "      <th>3</th>\n",
       "      <th>4</th>\n",
       "      <th>5</th>\n",
       "      <th>6</th>\n",
       "      <th>7</th>\n",
       "      <th>8</th>\n",
       "      <th>9</th>\n",
       "      <th>...</th>\n",
       "      <th>26</th>\n",
       "      <th>27</th>\n",
       "      <th>28</th>\n",
       "      <th>29</th>\n",
       "      <th>30</th>\n",
       "      <th>31</th>\n",
       "      <th>32</th>\n",
       "      <th>33</th>\n",
       "      <th>34</th>\n",
       "      <th>35</th>\n",
       "    </tr>\n",
       "  </thead>\n",
       "  <tbody>\n",
       "    <tr>\n",
       "      <th>0</th>\n",
       "      <td>diaporthe-stem-canker</td>\n",
       "      <td>6</td>\n",
       "      <td>0</td>\n",
       "      <td>2</td>\n",
       "      <td>1</td>\n",
       "      <td>0</td>\n",
       "      <td>1</td>\n",
       "      <td>1</td>\n",
       "      <td>1</td>\n",
       "      <td>0</td>\n",
       "      <td>...</td>\n",
       "      <td>0</td>\n",
       "      <td>0</td>\n",
       "      <td>0</td>\n",
       "      <td>4</td>\n",
       "      <td>0</td>\n",
       "      <td>0</td>\n",
       "      <td>0</td>\n",
       "      <td>0</td>\n",
       "      <td>0</td>\n",
       "      <td>0</td>\n",
       "    </tr>\n",
       "    <tr>\n",
       "      <th>1</th>\n",
       "      <td>diaporthe-stem-canker</td>\n",
       "      <td>4</td>\n",
       "      <td>0</td>\n",
       "      <td>2</td>\n",
       "      <td>1</td>\n",
       "      <td>0</td>\n",
       "      <td>2</td>\n",
       "      <td>0</td>\n",
       "      <td>2</td>\n",
       "      <td>1</td>\n",
       "      <td>...</td>\n",
       "      <td>0</td>\n",
       "      <td>0</td>\n",
       "      <td>0</td>\n",
       "      <td>4</td>\n",
       "      <td>0</td>\n",
       "      <td>0</td>\n",
       "      <td>0</td>\n",
       "      <td>0</td>\n",
       "      <td>0</td>\n",
       "      <td>0</td>\n",
       "    </tr>\n",
       "    <tr>\n",
       "      <th>2</th>\n",
       "      <td>diaporthe-stem-canker</td>\n",
       "      <td>3</td>\n",
       "      <td>0</td>\n",
       "      <td>2</td>\n",
       "      <td>1</td>\n",
       "      <td>0</td>\n",
       "      <td>1</td>\n",
       "      <td>0</td>\n",
       "      <td>2</td>\n",
       "      <td>1</td>\n",
       "      <td>...</td>\n",
       "      <td>0</td>\n",
       "      <td>0</td>\n",
       "      <td>0</td>\n",
       "      <td>4</td>\n",
       "      <td>0</td>\n",
       "      <td>0</td>\n",
       "      <td>0</td>\n",
       "      <td>0</td>\n",
       "      <td>0</td>\n",
       "      <td>0</td>\n",
       "    </tr>\n",
       "    <tr>\n",
       "      <th>3</th>\n",
       "      <td>diaporthe-stem-canker</td>\n",
       "      <td>3</td>\n",
       "      <td>0</td>\n",
       "      <td>2</td>\n",
       "      <td>1</td>\n",
       "      <td>0</td>\n",
       "      <td>1</td>\n",
       "      <td>0</td>\n",
       "      <td>2</td>\n",
       "      <td>0</td>\n",
       "      <td>...</td>\n",
       "      <td>0</td>\n",
       "      <td>0</td>\n",
       "      <td>0</td>\n",
       "      <td>4</td>\n",
       "      <td>0</td>\n",
       "      <td>0</td>\n",
       "      <td>0</td>\n",
       "      <td>0</td>\n",
       "      <td>0</td>\n",
       "      <td>0</td>\n",
       "    </tr>\n",
       "    <tr>\n",
       "      <th>4</th>\n",
       "      <td>diaporthe-stem-canker</td>\n",
       "      <td>6</td>\n",
       "      <td>0</td>\n",
       "      <td>2</td>\n",
       "      <td>1</td>\n",
       "      <td>0</td>\n",
       "      <td>2</td>\n",
       "      <td>0</td>\n",
       "      <td>1</td>\n",
       "      <td>0</td>\n",
       "      <td>...</td>\n",
       "      <td>0</td>\n",
       "      <td>0</td>\n",
       "      <td>0</td>\n",
       "      <td>4</td>\n",
       "      <td>0</td>\n",
       "      <td>0</td>\n",
       "      <td>0</td>\n",
       "      <td>0</td>\n",
       "      <td>0</td>\n",
       "      <td>0</td>\n",
       "    </tr>\n",
       "    <tr>\n",
       "      <th>...</th>\n",
       "      <td>...</td>\n",
       "      <td>...</td>\n",
       "      <td>...</td>\n",
       "      <td>...</td>\n",
       "      <td>...</td>\n",
       "      <td>...</td>\n",
       "      <td>...</td>\n",
       "      <td>...</td>\n",
       "      <td>...</td>\n",
       "      <td>...</td>\n",
       "      <td>...</td>\n",
       "      <td>...</td>\n",
       "      <td>...</td>\n",
       "      <td>...</td>\n",
       "      <td>...</td>\n",
       "      <td>...</td>\n",
       "      <td>...</td>\n",
       "      <td>...</td>\n",
       "      <td>...</td>\n",
       "      <td>...</td>\n",
       "      <td>...</td>\n",
       "    </tr>\n",
       "    <tr>\n",
       "      <th>302</th>\n",
       "      <td>2-4-d-injury</td>\n",
       "      <td>NaN</td>\n",
       "      <td>NaN</td>\n",
       "      <td>NaN</td>\n",
       "      <td>NaN</td>\n",
       "      <td>NaN</td>\n",
       "      <td>NaN</td>\n",
       "      <td>NaN</td>\n",
       "      <td>NaN</td>\n",
       "      <td>NaN</td>\n",
       "      <td>...</td>\n",
       "      <td>NaN</td>\n",
       "      <td>NaN</td>\n",
       "      <td>NaN</td>\n",
       "      <td>NaN</td>\n",
       "      <td>NaN</td>\n",
       "      <td>NaN</td>\n",
       "      <td>NaN</td>\n",
       "      <td>NaN</td>\n",
       "      <td>NaN</td>\n",
       "      <td>NaN</td>\n",
       "    </tr>\n",
       "    <tr>\n",
       "      <th>303</th>\n",
       "      <td>herbicide-injury</td>\n",
       "      <td>1</td>\n",
       "      <td>1</td>\n",
       "      <td>NaN</td>\n",
       "      <td>0</td>\n",
       "      <td>NaN</td>\n",
       "      <td>1</td>\n",
       "      <td>0</td>\n",
       "      <td>NaN</td>\n",
       "      <td>NaN</td>\n",
       "      <td>...</td>\n",
       "      <td>NaN</td>\n",
       "      <td>NaN</td>\n",
       "      <td>3</td>\n",
       "      <td>NaN</td>\n",
       "      <td>NaN</td>\n",
       "      <td>NaN</td>\n",
       "      <td>NaN</td>\n",
       "      <td>NaN</td>\n",
       "      <td>NaN</td>\n",
       "      <td>1</td>\n",
       "    </tr>\n",
       "    <tr>\n",
       "      <th>304</th>\n",
       "      <td>herbicide-injury</td>\n",
       "      <td>0</td>\n",
       "      <td>1</td>\n",
       "      <td>NaN</td>\n",
       "      <td>0</td>\n",
       "      <td>NaN</td>\n",
       "      <td>0</td>\n",
       "      <td>3</td>\n",
       "      <td>NaN</td>\n",
       "      <td>NaN</td>\n",
       "      <td>...</td>\n",
       "      <td>NaN</td>\n",
       "      <td>NaN</td>\n",
       "      <td>3</td>\n",
       "      <td>NaN</td>\n",
       "      <td>NaN</td>\n",
       "      <td>NaN</td>\n",
       "      <td>NaN</td>\n",
       "      <td>NaN</td>\n",
       "      <td>NaN</td>\n",
       "      <td>1</td>\n",
       "    </tr>\n",
       "    <tr>\n",
       "      <th>305</th>\n",
       "      <td>herbicide-injury</td>\n",
       "      <td>1</td>\n",
       "      <td>1</td>\n",
       "      <td>NaN</td>\n",
       "      <td>0</td>\n",
       "      <td>NaN</td>\n",
       "      <td>0</td>\n",
       "      <td>0</td>\n",
       "      <td>NaN</td>\n",
       "      <td>NaN</td>\n",
       "      <td>...</td>\n",
       "      <td>NaN</td>\n",
       "      <td>NaN</td>\n",
       "      <td>3</td>\n",
       "      <td>NaN</td>\n",
       "      <td>NaN</td>\n",
       "      <td>NaN</td>\n",
       "      <td>NaN</td>\n",
       "      <td>NaN</td>\n",
       "      <td>NaN</td>\n",
       "      <td>1</td>\n",
       "    </tr>\n",
       "    <tr>\n",
       "      <th>306</th>\n",
       "      <td>herbicide-injury</td>\n",
       "      <td>1</td>\n",
       "      <td>1</td>\n",
       "      <td>NaN</td>\n",
       "      <td>0</td>\n",
       "      <td>NaN</td>\n",
       "      <td>1</td>\n",
       "      <td>3</td>\n",
       "      <td>NaN</td>\n",
       "      <td>NaN</td>\n",
       "      <td>...</td>\n",
       "      <td>NaN</td>\n",
       "      <td>NaN</td>\n",
       "      <td>3</td>\n",
       "      <td>NaN</td>\n",
       "      <td>NaN</td>\n",
       "      <td>NaN</td>\n",
       "      <td>NaN</td>\n",
       "      <td>NaN</td>\n",
       "      <td>NaN</td>\n",
       "      <td>1</td>\n",
       "    </tr>\n",
       "  </tbody>\n",
       "</table>\n",
       "<p>307 rows × 36 columns</p>\n",
       "</div>"
      ],
      "text/plain": [
       "                        0    1    2    3    4    5    6    7    8    9   ...  \\\n",
       "0    diaporthe-stem-canker    6    0    2    1    0    1    1    1    0  ...   \n",
       "1    diaporthe-stem-canker    4    0    2    1    0    2    0    2    1  ...   \n",
       "2    diaporthe-stem-canker    3    0    2    1    0    1    0    2    1  ...   \n",
       "3    diaporthe-stem-canker    3    0    2    1    0    1    0    2    0  ...   \n",
       "4    diaporthe-stem-canker    6    0    2    1    0    2    0    1    0  ...   \n",
       "..                     ...  ...  ...  ...  ...  ...  ...  ...  ...  ...  ...   \n",
       "302           2-4-d-injury  NaN  NaN  NaN  NaN  NaN  NaN  NaN  NaN  NaN  ...   \n",
       "303       herbicide-injury    1    1  NaN    0  NaN    1    0  NaN  NaN  ...   \n",
       "304       herbicide-injury    0    1  NaN    0  NaN    0    3  NaN  NaN  ...   \n",
       "305       herbicide-injury    1    1  NaN    0  NaN    0    0  NaN  NaN  ...   \n",
       "306       herbicide-injury    1    1  NaN    0  NaN    1    3  NaN  NaN  ...   \n",
       "\n",
       "      26   27   28   29   30   31   32   33   34   35  \n",
       "0      0    0    0    4    0    0    0    0    0    0  \n",
       "1      0    0    0    4    0    0    0    0    0    0  \n",
       "2      0    0    0    4    0    0    0    0    0    0  \n",
       "3      0    0    0    4    0    0    0    0    0    0  \n",
       "4      0    0    0    4    0    0    0    0    0    0  \n",
       "..   ...  ...  ...  ...  ...  ...  ...  ...  ...  ...  \n",
       "302  NaN  NaN  NaN  NaN  NaN  NaN  NaN  NaN  NaN  NaN  \n",
       "303  NaN  NaN    3  NaN  NaN  NaN  NaN  NaN  NaN    1  \n",
       "304  NaN  NaN    3  NaN  NaN  NaN  NaN  NaN  NaN    1  \n",
       "305  NaN  NaN    3  NaN  NaN  NaN  NaN  NaN  NaN    1  \n",
       "306  NaN  NaN    3  NaN  NaN  NaN  NaN  NaN  NaN    1  \n",
       "\n",
       "[307 rows x 36 columns]"
      ]
     },
     "execution_count": 117,
     "metadata": {},
     "output_type": "execute_result"
    }
   ],
   "source": [
    "df_to_use= df_soybean\n",
    "df_to_use = df_to_use.replace('?', np.NaN)\n",
    "df_to_use"
   ]
  },
  {
   "cell_type": "code",
   "execution_count": 119,
   "metadata": {},
   "outputs": [],
   "source": [
    "for i in range(1,36):\n",
    "    df_to_use[i] = df_to_use[i].fillna(round(df_to_use[i].dropna().astype(float).mean(),0))"
   ]
  },
  {
   "cell_type": "code",
   "execution_count": 121,
   "metadata": {},
   "outputs": [],
   "source": [
    "X = df_to_use.values[:, 1:35]\n",
    "Y = df_to_use.values[:,0]#.astype('category')"
   ]
  },
  {
   "cell_type": "code",
   "execution_count": 206,
   "metadata": {},
   "outputs": [
    {
     "data": {
      "text/plain": [
       "array([  1,   4,   5,   6,   6,   6,   6,   8,   9,   9,  11,  12,  13,\n",
       "        16,  16,  17,  18,  19,  20,  20,  22,  24,  32,  33,  35,  38,\n",
       "        38,  38,  39,  39,  40,  42,  43,  44,  45,  46,  46,  46,  47,\n",
       "        49,  49,  50,  52,  53,  54,  57,  58,  58,  59,  59,  59,  60,\n",
       "        60,  60,  62,  63,  64,  66,  67,  68,  68,  69,  70,  72,  76,\n",
       "        77,  78,  78,  78,  79,  80,  80,  80,  80,  82,  84,  85,  86,\n",
       "        89,  90,  91,  93,  93,  95,  96,  96, 100, 105, 108, 109, 109,\n",
       "       110, 110, 111, 113, 113, 115, 115, 118, 121, 123, 124, 126, 127,\n",
       "       127, 129, 129, 130, 131, 131, 132, 132, 133, 135, 135, 136, 136,\n",
       "       137, 138, 140, 141, 141, 141, 142, 143, 144, 144, 146, 146, 146,\n",
       "       146, 147, 147, 148, 149, 150, 150, 151, 152, 152, 153, 153, 155,\n",
       "       156, 157, 158, 158, 158, 158, 159, 161, 161, 161, 162, 163, 164,\n",
       "       164, 165, 165, 166, 168, 170, 170, 170, 171, 172, 173, 173, 174,\n",
       "       177, 178, 179, 179, 181, 183, 184, 184, 187, 188, 189, 190, 190,\n",
       "       190, 195, 196, 197, 198, 199, 200, 201, 203, 205, 205, 207, 208,\n",
       "       210, 210, 210, 212, 213, 213, 213, 214, 216, 216, 218, 219, 220,\n",
       "       220, 221, 222, 224, 226, 227, 229, 230, 230, 233, 233, 234, 234,\n",
       "       234, 234, 236, 236, 237, 239, 240, 246, 248, 248, 248, 249, 251,\n",
       "       252, 252, 253, 254, 255, 255, 256, 257, 257, 257, 259, 259, 260,\n",
       "       261, 261, 262, 263, 263, 264, 264, 264, 265, 265, 265, 265, 266,\n",
       "       266, 267, 268, 268, 270, 272, 273, 273, 274, 278, 278, 279, 279,\n",
       "       280, 281, 281, 281, 282, 286, 286, 288, 289, 290, 291, 291, 292,\n",
       "       294, 294, 297, 297, 297, 298, 298, 298, 299, 300, 300, 300, 300,\n",
       "       301, 301, 302, 302, 303, 305, 305, 306])"
      ]
     },
     "execution_count": 206,
     "metadata": {},
     "output_type": "execute_result"
    }
   ],
   "source": [
    "t = np.random.choice(307, 307)\n",
    "np.sort(t)"
   ]
  },
  {
   "cell_type": "code",
   "execution_count": 208,
   "metadata": {},
   "outputs": [
    {
     "data": {
      "text/plain": [
       "0     diaporthe-stem-canker\n",
       "1                         6\n",
       "2                         0\n",
       "3                         2\n",
       "4                         1\n",
       "5                         0\n",
       "6                         1\n",
       "7                         1\n",
       "8                         1\n",
       "9                         0\n",
       "10                        0\n",
       "11                        1\n",
       "12                        1\n",
       "13                        0\n",
       "14                        2\n",
       "15                        2\n",
       "16                        0\n",
       "17                        0\n",
       "18                        0\n",
       "19                        1\n",
       "20                        1\n",
       "21                        3\n",
       "22                        1\n",
       "23                        1\n",
       "24                        1\n",
       "25                        0\n",
       "26                        0\n",
       "27                        0\n",
       "28                        0\n",
       "29                        4\n",
       "30                        0\n",
       "31                        0\n",
       "32                        0\n",
       "33                        0\n",
       "34                        0\n",
       "35                        0\n",
       "Name: 0, dtype: object"
      ]
     },
     "execution_count": 208,
     "metadata": {},
     "output_type": "execute_result"
    }
   ],
   "source": [
    "df_to_use.iloc[0]"
   ]
  },
  {
   "cell_type": "code",
   "execution_count": 123,
   "metadata": {},
   "outputs": [
    {
     "name": "stdout",
     "output_type": "stream",
     "text": [
      "19\n"
     ]
    },
    {
     "data": {
      "text/plain": [
       "array(['diaporthe-stem-canker', 'charcoal-rot', 'rhizoctonia-root-rot',\n",
       "       'phytophthora-rot', 'brown-stem-rot', 'powdery-mildew',\n",
       "       'downy-mildew', 'brown-spot', 'bacterial-blight',\n",
       "       'bacterial-pustule', 'purple-seed-stain', 'anthracnose',\n",
       "       'phyllosticta-leaf-spot', 'alternarialeaf-spot',\n",
       "       'frog-eye-leaf-spot', 'diaporthe-pod-&-stem-blight',\n",
       "       'cyst-nematode', '2-4-d-injury', 'herbicide-injury'], dtype=object)"
      ]
     },
     "execution_count": 123,
     "metadata": {},
     "output_type": "execute_result"
    }
   ],
   "source": [
    "#df_to_use.values[:,0].unique()\n",
    "print(len(df_to_use[0].unique()))\n",
    "df_to_use[0].unique()"
   ]
  },
  {
   "cell_type": "code",
   "execution_count": null,
   "metadata": {},
   "outputs": [],
   "source": []
  },
  {
   "cell_type": "code",
   "execution_count": 124,
   "metadata": {},
   "outputs": [],
   "source": [
    "from sklearn.tree import DecisionTreeClassifier # Import Decision Tree Classifier\n",
    "from sklearn.model_selection import train_test_split # Import train_test_split function\n",
    "from sklearn import metrics #Import scikit-learn metrics module for accuracy calculation"
   ]
  },
  {
   "cell_type": "code",
   "execution_count": 186,
   "metadata": {},
   "outputs": [
    {
     "data": {
      "text/plain": [
       "array([[0., 0., 0.],\n",
       "       [0., 5., 0.]])"
      ]
     },
     "execution_count": 186,
     "metadata": {},
     "output_type": "execute_result"
    }
   ],
   "source": [
    "err = np.zeros((100,50))\n",
    "for i in range(100):\n",
    "    \n",
    "    for j in range(50):\n",
    "        "
   ]
  },
  {
   "cell_type": "code",
   "execution_count": 170,
   "metadata": {},
   "outputs": [],
   "source": [
    "X_train, X_test, y_train, y_test = train_test_split(X, Y, test_size=0.3, random_state=2) # 70% training and 30% test"
   ]
  },
  {
   "cell_type": "code",
   "execution_count": 172,
   "metadata": {},
   "outputs": [
    {
     "data": {
      "text/plain": [
       "array([['5', '0', '2', ..., '0', '0', '0'],\n",
       "       ['4', '0', '0', ..., '0', '0', '0'],\n",
       "       ['4', '0', '2', ..., '0', '0', '0'],\n",
       "       ...,\n",
       "       ['3', '1', '0', ..., '0', '0', '0'],\n",
       "       ['5', '0', '0', ..., '0', '0', '0'],\n",
       "       ['4', '0', '1', ..., '1', '1', '0']], dtype=object)"
      ]
     },
     "execution_count": 172,
     "metadata": {},
     "output_type": "execute_result"
    }
   ],
   "source": [
    "X_train"
   ]
  },
  {
   "cell_type": "code",
   "execution_count": 158,
   "metadata": {},
   "outputs": [],
   "source": [
    "# from sklearn.preprocessing import Imputer\n",
    "# imputer = Imputer(missing_values='NaN', strategy='mean', axis=0)\n",
    "\n",
    "# imputer = imputer.fit(X[:, 1:3])\n",
    "#     X[:, 1:3] = imputer.transform(X_train[:, 1:3])"
   ]
  },
  {
   "cell_type": "code",
   "execution_count": 173,
   "metadata": {},
   "outputs": [
    {
     "data": {
      "text/plain": [
       "214"
      ]
     },
     "execution_count": 173,
     "metadata": {},
     "output_type": "execute_result"
    }
   ],
   "source": [
    "len(X_train)"
   ]
  },
  {
   "cell_type": "code",
   "execution_count": 174,
   "metadata": {},
   "outputs": [
    {
     "data": {
      "text/plain": [
       "93"
      ]
     },
     "execution_count": 174,
     "metadata": {},
     "output_type": "execute_result"
    }
   ],
   "source": [
    "len(X_test)"
   ]
  },
  {
   "cell_type": "code",
   "execution_count": 175,
   "metadata": {},
   "outputs": [],
   "source": [
    "# Create Decision Tree classifer object\n",
    "clf = DecisionTreeClassifier()"
   ]
  },
  {
   "cell_type": "code",
   "execution_count": 176,
   "metadata": {},
   "outputs": [],
   "source": [
    "# Train Decision Tree Classifer\n",
    "clf = clf.fit(X_train,y_train)"
   ]
  },
  {
   "cell_type": "code",
   "execution_count": 177,
   "metadata": {},
   "outputs": [],
   "source": [
    "#Predict the response for test dataset\n",
    "y_pred = clf.predict(X_test)"
   ]
  },
  {
   "cell_type": "code",
   "execution_count": 178,
   "metadata": {},
   "outputs": [
    {
     "data": {
      "text/plain": [
       "array(['purple-seed-stain', 'brown-spot', 'diaporthe-stem-canker',\n",
       "       'brown-stem-rot', 'bacterial-pustule',\n",
       "       'diaporthe-pod-&-stem-blight', 'alternarialeaf-spot',\n",
       "       'cyst-nematode', 'brown-spot', 'brown-spot',\n",
       "       'phyllosticta-leaf-spot', 'frog-eye-leaf-spot',\n",
       "       'diaporthe-pod-&-stem-blight', 'phytophthora-rot',\n",
       "       'purple-seed-stain', 'powdery-mildew', 'purple-seed-stain',\n",
       "       'frog-eye-leaf-spot', 'alternarialeaf-spot', 'charcoal-rot',\n",
       "       'diaporthe-stem-canker', 'phytophthora-rot', 'phytophthora-rot',\n",
       "       'frog-eye-leaf-spot', 'rhizoctonia-root-rot', 'brown-stem-rot',\n",
       "       'anthracnose', 'anthracnose', 'anthracnose', 'anthracnose',\n",
       "       'cyst-nematode', 'downy-mildew', 'powdery-mildew',\n",
       "       'phytophthora-rot', 'charcoal-rot', 'alternarialeaf-spot',\n",
       "       'alternarialeaf-spot', 'brown-spot', 'downy-mildew',\n",
       "       'frog-eye-leaf-spot', 'frog-eye-leaf-spot', 'powdery-mildew',\n",
       "       'alternarialeaf-spot', 'brown-spot', 'anthracnose',\n",
       "       'brown-stem-rot', 'frog-eye-leaf-spot', 'purple-seed-stain',\n",
       "       'brown-spot', 'anthracnose', 'diaporthe-pod-&-stem-blight',\n",
       "       'phytophthora-rot', 'charcoal-rot', 'bacterial-pustule',\n",
       "       'bacterial-blight', 'phytophthora-rot', 'brown-spot', 'brown-spot',\n",
       "       'alternarialeaf-spot', 'purple-seed-stain', 'phytophthora-rot',\n",
       "       'downy-mildew', 'bacterial-blight', 'brown-spot', 'brown-spot',\n",
       "       'brown-stem-rot', 'purple-seed-stain',\n",
       "       'diaporthe-pod-&-stem-blight', 'alternarialeaf-spot',\n",
       "       'rhizoctonia-root-rot', 'powdery-mildew', 'alternarialeaf-spot',\n",
       "       'brown-spot', 'bacterial-pustule', '2-4-d-injury',\n",
       "       'phyllosticta-leaf-spot', 'frog-eye-leaf-spot',\n",
       "       'phyllosticta-leaf-spot', 'phytophthora-rot',\n",
       "       'diaporthe-stem-canker', 'phyllosticta-leaf-spot',\n",
       "       'bacterial-blight', 'purple-seed-stain', 'bacterial-blight',\n",
       "       'alternarialeaf-spot', 'bacterial-pustule', 'rhizoctonia-root-rot',\n",
       "       'frog-eye-leaf-spot', 'brown-spot', 'bacterial-blight',\n",
       "       'rhizoctonia-root-rot', 'rhizoctonia-root-rot', 'brown-spot'],\n",
       "      dtype=object)"
      ]
     },
     "execution_count": 178,
     "metadata": {},
     "output_type": "execute_result"
    }
   ],
   "source": [
    "y_test"
   ]
  },
  {
   "cell_type": "code",
   "execution_count": 179,
   "metadata": {},
   "outputs": [
    {
     "data": {
      "text/plain": [
       "array(['purple-seed-stain', 'brown-spot', 'diaporthe-stem-canker',\n",
       "       'brown-stem-rot', 'bacterial-pustule',\n",
       "       'diaporthe-pod-&-stem-blight', 'alternarialeaf-spot',\n",
       "       'cyst-nematode', 'brown-spot', 'brown-spot',\n",
       "       'phyllosticta-leaf-spot', 'frog-eye-leaf-spot',\n",
       "       'diaporthe-pod-&-stem-blight', 'phytophthora-rot',\n",
       "       'purple-seed-stain', 'powdery-mildew', 'purple-seed-stain',\n",
       "       'frog-eye-leaf-spot', 'alternarialeaf-spot', 'charcoal-rot',\n",
       "       'diaporthe-stem-canker', 'phytophthora-rot', 'phytophthora-rot',\n",
       "       'frog-eye-leaf-spot', 'rhizoctonia-root-rot', 'brown-stem-rot',\n",
       "       'anthracnose', 'anthracnose', 'anthracnose', 'anthracnose',\n",
       "       'cyst-nematode', 'downy-mildew', 'powdery-mildew',\n",
       "       'phytophthora-rot', 'charcoal-rot', 'alternarialeaf-spot',\n",
       "       'frog-eye-leaf-spot', 'brown-spot', 'downy-mildew',\n",
       "       'frog-eye-leaf-spot', 'alternarialeaf-spot', 'powdery-mildew',\n",
       "       'alternarialeaf-spot', 'phyllosticta-leaf-spot', 'anthracnose',\n",
       "       'brown-stem-rot', 'frog-eye-leaf-spot', 'frog-eye-leaf-spot',\n",
       "       'brown-spot', 'anthracnose', 'diaporthe-pod-&-stem-blight',\n",
       "       'phytophthora-rot', 'charcoal-rot', 'bacterial-pustule',\n",
       "       'alternarialeaf-spot', 'phytophthora-rot', 'brown-spot',\n",
       "       'brown-spot', 'frog-eye-leaf-spot', 'purple-seed-stain',\n",
       "       'phytophthora-rot', 'downy-mildew', 'alternarialeaf-spot',\n",
       "       'phyllosticta-leaf-spot', 'brown-spot', 'brown-stem-rot',\n",
       "       'frog-eye-leaf-spot', 'diaporthe-pod-&-stem-blight',\n",
       "       'alternarialeaf-spot', 'diaporthe-pod-&-stem-blight',\n",
       "       'powdery-mildew', 'frog-eye-leaf-spot', 'brown-spot',\n",
       "       'bacterial-pustule', 'anthracnose', 'phyllosticta-leaf-spot',\n",
       "       'frog-eye-leaf-spot', 'phyllosticta-leaf-spot', 'phytophthora-rot',\n",
       "       'diaporthe-stem-canker', 'phyllosticta-leaf-spot', 'brown-spot',\n",
       "       'anthracnose', 'alternarialeaf-spot', 'frog-eye-leaf-spot',\n",
       "       'alternarialeaf-spot', 'diaporthe-pod-&-stem-blight',\n",
       "       'frog-eye-leaf-spot', 'brown-spot', 'bacterial-blight',\n",
       "       'rhizoctonia-root-rot', 'rhizoctonia-root-rot',\n",
       "       'phyllosticta-leaf-spot'], dtype=object)"
      ]
     },
     "execution_count": 179,
     "metadata": {},
     "output_type": "execute_result"
    }
   ],
   "source": [
    "y_pred"
   ]
  },
  {
   "cell_type": "code",
   "execution_count": 180,
   "metadata": {
    "scrolled": true
   },
   "outputs": [
    {
     "name": "stdout",
     "output_type": "stream",
     "text": [
      "purple-seed-stain| same\n",
      "brown-spot| same\n",
      "diaporthe-stem-canker| same\n",
      "brown-stem-rot| same\n",
      "bacterial-pustule| same\n",
      "diaporthe-pod-&-stem-blight| same\n",
      "alternarialeaf-spot| same\n",
      "cyst-nematode| same\n",
      "brown-spot| same\n",
      "brown-spot| same\n",
      "phyllosticta-leaf-spot| same\n",
      "frog-eye-leaf-spot| same\n",
      "diaporthe-pod-&-stem-blight| same\n",
      "phytophthora-rot| same\n",
      "purple-seed-stain| same\n",
      "powdery-mildew| same\n",
      "purple-seed-stain| same\n",
      "frog-eye-leaf-spot| same\n",
      "alternarialeaf-spot| same\n",
      "charcoal-rot| same\n",
      "diaporthe-stem-canker| same\n",
      "phytophthora-rot| same\n",
      "phytophthora-rot| same\n",
      "frog-eye-leaf-spot| same\n",
      "rhizoctonia-root-rot| same\n",
      "brown-stem-rot| same\n",
      "anthracnose| same\n",
      "anthracnose| same\n",
      "anthracnose| same\n",
      "anthracnose| same\n",
      "cyst-nematode| same\n",
      "downy-mildew| same\n",
      "powdery-mildew| same\n",
      "phytophthora-rot| same\n",
      "charcoal-rot| same\n",
      "alternarialeaf-spot| same\n",
      "alternarialeaf-spot| not\n",
      "brown-spot| same\n",
      "downy-mildew| same\n",
      "frog-eye-leaf-spot| same\n",
      "frog-eye-leaf-spot| not\n",
      "powdery-mildew| same\n",
      "alternarialeaf-spot| same\n",
      "brown-spot| not\n",
      "anthracnose| same\n",
      "brown-stem-rot| same\n",
      "frog-eye-leaf-spot| same\n",
      "purple-seed-stain| not\n",
      "brown-spot| same\n",
      "anthracnose| same\n",
      "diaporthe-pod-&-stem-blight| same\n",
      "phytophthora-rot| same\n",
      "charcoal-rot| same\n",
      "bacterial-pustule| same\n",
      "bacterial-blight| not\n",
      "phytophthora-rot| same\n",
      "brown-spot| same\n",
      "brown-spot| same\n",
      "alternarialeaf-spot| not\n",
      "purple-seed-stain| same\n",
      "phytophthora-rot| same\n",
      "downy-mildew| same\n",
      "bacterial-blight| not\n",
      "brown-spot| not\n",
      "brown-spot| same\n",
      "brown-stem-rot| same\n",
      "purple-seed-stain| not\n",
      "diaporthe-pod-&-stem-blight| same\n",
      "alternarialeaf-spot| same\n",
      "rhizoctonia-root-rot| not\n",
      "powdery-mildew| same\n",
      "alternarialeaf-spot| not\n",
      "brown-spot| same\n",
      "bacterial-pustule| same\n",
      "2-4-d-injury| not\n",
      "phyllosticta-leaf-spot| same\n",
      "frog-eye-leaf-spot| same\n",
      "phyllosticta-leaf-spot| same\n",
      "phytophthora-rot| same\n",
      "diaporthe-stem-canker| same\n",
      "phyllosticta-leaf-spot| same\n",
      "bacterial-blight| not\n",
      "purple-seed-stain| not\n",
      "bacterial-blight| not\n",
      "alternarialeaf-spot| not\n",
      "bacterial-pustule| not\n",
      "rhizoctonia-root-rot| not\n",
      "frog-eye-leaf-spot| same\n",
      "brown-spot| same\n",
      "bacterial-blight| same\n",
      "rhizoctonia-root-rot| same\n",
      "rhizoctonia-root-rot| same\n"
     ]
    }
   ],
   "source": [
    "err = 0\n",
    "for i in range(0,len(y_test)-1):\n",
    "        if y_test[i] == y_pred[i]:\n",
    "            print(y_test[i] + \"| same\")\n",
    "        else:\n",
    "            err = err + 1\n",
    "            print(y_test[i] + \"| not\")\n",
    "          #other thing you want to do if not equal"
   ]
  },
  {
   "cell_type": "code",
   "execution_count": 181,
   "metadata": {},
   "outputs": [
    {
     "data": {
      "text/plain": [
       "0.1935483870967742"
      ]
     },
     "execution_count": 181,
     "metadata": {},
     "output_type": "execute_result"
    }
   ],
   "source": [
    "err/len(y_test)\n",
    "# 0.17204301075268819\n",
    "# 0.21505376344086022"
   ]
  },
  {
   "cell_type": "markdown",
   "metadata": {},
   "source": [
    "for 1:100  \n",
    " for 1:50  \n",
    "  get Bootstrap sample  \n",
    "   Train, Test \n",
    "   Get error rate"
   ]
  },
  {
   "cell_type": "code",
   "execution_count": null,
   "metadata": {},
   "outputs": [],
   "source": []
  }
 ],
 "metadata": {
  "hide_input": false,
  "kernelspec": {
   "display_name": "Python 3",
   "language": "python",
   "name": "python3"
  },
  "language_info": {
   "codemirror_mode": {
    "name": "ipython",
    "version": 3
   },
   "file_extension": ".py",
   "mimetype": "text/x-python",
   "name": "python",
   "nbconvert_exporter": "python",
   "pygments_lexer": "ipython3",
   "version": "3.6.9"
  }
 },
 "nbformat": 4,
 "nbformat_minor": 2
}
