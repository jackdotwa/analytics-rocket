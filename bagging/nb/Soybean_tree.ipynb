{
 "cells": [
  {
   "cell_type": "markdown",
   "metadata": {},
   "source": [
    "# Building a single tree"
   ]
  },
  {
   "cell_type": "code",
   "execution_count": null,
   "metadata": {},
   "outputs": [],
   "source": []
  },
  {
   "cell_type": "code",
   "execution_count": 15,
   "metadata": {},
   "outputs": [],
   "source": [
    "import pandas as pd\n",
    "import numpy as np"
   ]
  },
  {
   "cell_type": "code",
   "execution_count": 19,
   "metadata": {},
   "outputs": [],
   "source": [
    "df_soybean = pd.read_csv('https://archive.ics.uci.edu/ml/machine-learning-databases/soybean/soybean-large.data',header=None)\n"
   ]
  },
  {
   "cell_type": "code",
   "execution_count": 20,
   "metadata": {},
   "outputs": [],
   "source": [
    "df_to_use= df_soybean\n",
    "X = df_to_use.values[:, 1:35]\n",
    "Y = df_to_use.values[:,0]#.astype('category')"
   ]
  },
  {
   "cell_type": "code",
   "execution_count": 21,
   "metadata": {},
   "outputs": [],
   "source": [
    "import pandas as pd\n",
    "from sklearn.tree import DecisionTreeClassifier # Import Decision Tree Classifier\n",
    "from sklearn.model_selection import train_test_split # Import train_test_split function\n",
    "from sklearn import metrics #Import scikit-learn metrics module for accuracy calculation"
   ]
  },
  {
   "cell_type": "code",
   "execution_count": 22,
   "metadata": {},
   "outputs": [],
   "source": [
    "X_train, X_test, y_train, y_test = train_test_split(X, Y, test_size=0.3, random_state=1) # 70% training and 30% test"
   ]
  },
  {
   "cell_type": "code",
   "execution_count": 23,
   "metadata": {},
   "outputs": [],
   "source": [
    "# Create Decision Tree classifer object\n",
    "clf = DecisionTreeClassifier()\n"
   ]
  },
  {
   "cell_type": "code",
   "execution_count": 13,
   "metadata": {},
   "outputs": [
    {
     "ename": "ValueError",
     "evalue": "could not convert string to float: '?'",
     "output_type": "error",
     "traceback": [
      "\u001b[0;31m---------------------------------------------------------------------------\u001b[0m",
      "\u001b[0;31mValueError\u001b[0m                                Traceback (most recent call last)",
      "\u001b[0;32m<ipython-input-13-92ee73c498fc>\u001b[0m in \u001b[0;36m<module>\u001b[0;34m\u001b[0m\n\u001b[1;32m      1\u001b[0m \u001b[0;31m# Train Decision Tree Classifer\u001b[0m\u001b[0;34m\u001b[0m\u001b[0;34m\u001b[0m\u001b[0;34m\u001b[0m\u001b[0m\n\u001b[0;32m----> 2\u001b[0;31m \u001b[0mclf\u001b[0m \u001b[0;34m=\u001b[0m \u001b[0mclf\u001b[0m\u001b[0;34m.\u001b[0m\u001b[0mfit\u001b[0m\u001b[0;34m(\u001b[0m\u001b[0mX_train\u001b[0m\u001b[0;34m,\u001b[0m\u001b[0my_train\u001b[0m\u001b[0;34m)\u001b[0m\u001b[0;34m\u001b[0m\u001b[0;34m\u001b[0m\u001b[0m\n\u001b[0m",
      "\u001b[0;32m~/anaconda3/lib/python3.7/site-packages/sklearn/tree/tree.py\u001b[0m in \u001b[0;36mfit\u001b[0;34m(self, X, y, sample_weight, check_input, X_idx_sorted)\u001b[0m\n\u001b[1;32m    799\u001b[0m             \u001b[0msample_weight\u001b[0m\u001b[0;34m=\u001b[0m\u001b[0msample_weight\u001b[0m\u001b[0;34m,\u001b[0m\u001b[0;34m\u001b[0m\u001b[0;34m\u001b[0m\u001b[0m\n\u001b[1;32m    800\u001b[0m             \u001b[0mcheck_input\u001b[0m\u001b[0;34m=\u001b[0m\u001b[0mcheck_input\u001b[0m\u001b[0;34m,\u001b[0m\u001b[0;34m\u001b[0m\u001b[0;34m\u001b[0m\u001b[0m\n\u001b[0;32m--> 801\u001b[0;31m             X_idx_sorted=X_idx_sorted)\n\u001b[0m\u001b[1;32m    802\u001b[0m         \u001b[0;32mreturn\u001b[0m \u001b[0mself\u001b[0m\u001b[0;34m\u001b[0m\u001b[0;34m\u001b[0m\u001b[0m\n\u001b[1;32m    803\u001b[0m \u001b[0;34m\u001b[0m\u001b[0m\n",
      "\u001b[0;32m~/anaconda3/lib/python3.7/site-packages/sklearn/tree/tree.py\u001b[0m in \u001b[0;36mfit\u001b[0;34m(self, X, y, sample_weight, check_input, X_idx_sorted)\u001b[0m\n\u001b[1;32m    114\u001b[0m         \u001b[0mrandom_state\u001b[0m \u001b[0;34m=\u001b[0m \u001b[0mcheck_random_state\u001b[0m\u001b[0;34m(\u001b[0m\u001b[0mself\u001b[0m\u001b[0;34m.\u001b[0m\u001b[0mrandom_state\u001b[0m\u001b[0;34m)\u001b[0m\u001b[0;34m\u001b[0m\u001b[0;34m\u001b[0m\u001b[0m\n\u001b[1;32m    115\u001b[0m         \u001b[0;32mif\u001b[0m \u001b[0mcheck_input\u001b[0m\u001b[0;34m:\u001b[0m\u001b[0;34m\u001b[0m\u001b[0;34m\u001b[0m\u001b[0m\n\u001b[0;32m--> 116\u001b[0;31m             \u001b[0mX\u001b[0m \u001b[0;34m=\u001b[0m \u001b[0mcheck_array\u001b[0m\u001b[0;34m(\u001b[0m\u001b[0mX\u001b[0m\u001b[0;34m,\u001b[0m \u001b[0mdtype\u001b[0m\u001b[0;34m=\u001b[0m\u001b[0mDTYPE\u001b[0m\u001b[0;34m,\u001b[0m \u001b[0maccept_sparse\u001b[0m\u001b[0;34m=\u001b[0m\u001b[0;34m\"csc\"\u001b[0m\u001b[0;34m)\u001b[0m\u001b[0;34m\u001b[0m\u001b[0;34m\u001b[0m\u001b[0m\n\u001b[0m\u001b[1;32m    117\u001b[0m             \u001b[0my\u001b[0m \u001b[0;34m=\u001b[0m \u001b[0mcheck_array\u001b[0m\u001b[0;34m(\u001b[0m\u001b[0my\u001b[0m\u001b[0;34m,\u001b[0m \u001b[0mensure_2d\u001b[0m\u001b[0;34m=\u001b[0m\u001b[0;32mFalse\u001b[0m\u001b[0;34m,\u001b[0m \u001b[0mdtype\u001b[0m\u001b[0;34m=\u001b[0m\u001b[0;32mNone\u001b[0m\u001b[0;34m)\u001b[0m\u001b[0;34m\u001b[0m\u001b[0;34m\u001b[0m\u001b[0m\n\u001b[1;32m    118\u001b[0m             \u001b[0;32mif\u001b[0m \u001b[0missparse\u001b[0m\u001b[0;34m(\u001b[0m\u001b[0mX\u001b[0m\u001b[0;34m)\u001b[0m\u001b[0;34m:\u001b[0m\u001b[0;34m\u001b[0m\u001b[0;34m\u001b[0m\u001b[0m\n",
      "\u001b[0;32m~/anaconda3/lib/python3.7/site-packages/sklearn/utils/validation.py\u001b[0m in \u001b[0;36mcheck_array\u001b[0;34m(array, accept_sparse, accept_large_sparse, dtype, order, copy, force_all_finite, ensure_2d, allow_nd, ensure_min_samples, ensure_min_features, warn_on_dtype, estimator)\u001b[0m\n\u001b[1;32m    525\u001b[0m             \u001b[0;32mtry\u001b[0m\u001b[0;34m:\u001b[0m\u001b[0;34m\u001b[0m\u001b[0;34m\u001b[0m\u001b[0m\n\u001b[1;32m    526\u001b[0m                 \u001b[0mwarnings\u001b[0m\u001b[0;34m.\u001b[0m\u001b[0msimplefilter\u001b[0m\u001b[0;34m(\u001b[0m\u001b[0;34m'error'\u001b[0m\u001b[0;34m,\u001b[0m \u001b[0mComplexWarning\u001b[0m\u001b[0;34m)\u001b[0m\u001b[0;34m\u001b[0m\u001b[0;34m\u001b[0m\u001b[0m\n\u001b[0;32m--> 527\u001b[0;31m                 \u001b[0marray\u001b[0m \u001b[0;34m=\u001b[0m \u001b[0mnp\u001b[0m\u001b[0;34m.\u001b[0m\u001b[0masarray\u001b[0m\u001b[0;34m(\u001b[0m\u001b[0marray\u001b[0m\u001b[0;34m,\u001b[0m \u001b[0mdtype\u001b[0m\u001b[0;34m=\u001b[0m\u001b[0mdtype\u001b[0m\u001b[0;34m,\u001b[0m \u001b[0morder\u001b[0m\u001b[0;34m=\u001b[0m\u001b[0morder\u001b[0m\u001b[0;34m)\u001b[0m\u001b[0;34m\u001b[0m\u001b[0;34m\u001b[0m\u001b[0m\n\u001b[0m\u001b[1;32m    528\u001b[0m             \u001b[0;32mexcept\u001b[0m \u001b[0mComplexWarning\u001b[0m\u001b[0;34m:\u001b[0m\u001b[0;34m\u001b[0m\u001b[0;34m\u001b[0m\u001b[0m\n\u001b[1;32m    529\u001b[0m                 raise ValueError(\"Complex data not supported\\n\"\n",
      "\u001b[0;32m~/anaconda3/lib/python3.7/site-packages/numpy/core/numeric.py\u001b[0m in \u001b[0;36masarray\u001b[0;34m(a, dtype, order)\u001b[0m\n\u001b[1;32m    499\u001b[0m \u001b[0;34m\u001b[0m\u001b[0m\n\u001b[1;32m    500\u001b[0m     \"\"\"\n\u001b[0;32m--> 501\u001b[0;31m     \u001b[0;32mreturn\u001b[0m \u001b[0marray\u001b[0m\u001b[0;34m(\u001b[0m\u001b[0ma\u001b[0m\u001b[0;34m,\u001b[0m \u001b[0mdtype\u001b[0m\u001b[0;34m,\u001b[0m \u001b[0mcopy\u001b[0m\u001b[0;34m=\u001b[0m\u001b[0;32mFalse\u001b[0m\u001b[0;34m,\u001b[0m \u001b[0morder\u001b[0m\u001b[0;34m=\u001b[0m\u001b[0morder\u001b[0m\u001b[0;34m)\u001b[0m\u001b[0;34m\u001b[0m\u001b[0;34m\u001b[0m\u001b[0m\n\u001b[0m\u001b[1;32m    502\u001b[0m \u001b[0;34m\u001b[0m\u001b[0m\n\u001b[1;32m    503\u001b[0m \u001b[0;34m\u001b[0m\u001b[0m\n",
      "\u001b[0;31mValueError\u001b[0m: could not convert string to float: '?'"
     ]
    }
   ],
   "source": [
    "# Train Decision Tree Classifer\n",
    "clf = clf.fit(X_train,y_train)\n"
   ]
  },
  {
   "cell_type": "code",
   "execution_count": 17,
   "metadata": {},
   "outputs": [
    {
     "ename": "NotFittedError",
     "evalue": "This DecisionTreeClassifier instance is not fitted yet. Call 'fit' with appropriate arguments before using this method.",
     "output_type": "error",
     "traceback": [
      "\u001b[0;31m---------------------------------------------------------------------------\u001b[0m",
      "\u001b[0;31mNotFittedError\u001b[0m                            Traceback (most recent call last)",
      "\u001b[0;32m<ipython-input-17-7c7c377e376f>\u001b[0m in \u001b[0;36m<module>\u001b[0;34m\u001b[0m\n\u001b[1;32m      1\u001b[0m \u001b[0;31m#Predict the response for test dataset\u001b[0m\u001b[0;34m\u001b[0m\u001b[0;34m\u001b[0m\u001b[0;34m\u001b[0m\u001b[0m\n\u001b[0;32m----> 2\u001b[0;31m \u001b[0my_pred\u001b[0m \u001b[0;34m=\u001b[0m \u001b[0mclf\u001b[0m\u001b[0;34m.\u001b[0m\u001b[0mpredict\u001b[0m\u001b[0;34m(\u001b[0m\u001b[0mX_test\u001b[0m\u001b[0;34m)\u001b[0m\u001b[0;34m\u001b[0m\u001b[0;34m\u001b[0m\u001b[0m\n\u001b[0m",
      "\u001b[0;32m~/anaconda3/lib/python3.7/site-packages/sklearn/tree/tree.py\u001b[0m in \u001b[0;36mpredict\u001b[0;34m(self, X, check_input)\u001b[0m\n\u001b[1;32m    413\u001b[0m             \u001b[0mThe\u001b[0m \u001b[0mpredicted\u001b[0m \u001b[0mclasses\u001b[0m\u001b[0;34m,\u001b[0m \u001b[0;32mor\u001b[0m \u001b[0mthe\u001b[0m \u001b[0mpredict\u001b[0m \u001b[0mvalues\u001b[0m\u001b[0;34m.\u001b[0m\u001b[0;34m\u001b[0m\u001b[0;34m\u001b[0m\u001b[0m\n\u001b[1;32m    414\u001b[0m         \"\"\"\n\u001b[0;32m--> 415\u001b[0;31m         \u001b[0mcheck_is_fitted\u001b[0m\u001b[0;34m(\u001b[0m\u001b[0mself\u001b[0m\u001b[0;34m,\u001b[0m \u001b[0;34m'tree_'\u001b[0m\u001b[0;34m)\u001b[0m\u001b[0;34m\u001b[0m\u001b[0;34m\u001b[0m\u001b[0m\n\u001b[0m\u001b[1;32m    416\u001b[0m         \u001b[0mX\u001b[0m \u001b[0;34m=\u001b[0m \u001b[0mself\u001b[0m\u001b[0;34m.\u001b[0m\u001b[0m_validate_X_predict\u001b[0m\u001b[0;34m(\u001b[0m\u001b[0mX\u001b[0m\u001b[0;34m,\u001b[0m \u001b[0mcheck_input\u001b[0m\u001b[0;34m)\u001b[0m\u001b[0;34m\u001b[0m\u001b[0;34m\u001b[0m\u001b[0m\n\u001b[1;32m    417\u001b[0m         \u001b[0mproba\u001b[0m \u001b[0;34m=\u001b[0m \u001b[0mself\u001b[0m\u001b[0;34m.\u001b[0m\u001b[0mtree_\u001b[0m\u001b[0;34m.\u001b[0m\u001b[0mpredict\u001b[0m\u001b[0;34m(\u001b[0m\u001b[0mX\u001b[0m\u001b[0;34m)\u001b[0m\u001b[0;34m\u001b[0m\u001b[0;34m\u001b[0m\u001b[0m\n",
      "\u001b[0;32m~/anaconda3/lib/python3.7/site-packages/sklearn/utils/validation.py\u001b[0m in \u001b[0;36mcheck_is_fitted\u001b[0;34m(estimator, attributes, msg, all_or_any)\u001b[0m\n\u001b[1;32m    949\u001b[0m \u001b[0;34m\u001b[0m\u001b[0m\n\u001b[1;32m    950\u001b[0m     \u001b[0;32mif\u001b[0m \u001b[0;32mnot\u001b[0m \u001b[0mall_or_any\u001b[0m\u001b[0;34m(\u001b[0m\u001b[0;34m[\u001b[0m\u001b[0mhasattr\u001b[0m\u001b[0;34m(\u001b[0m\u001b[0mestimator\u001b[0m\u001b[0;34m,\u001b[0m \u001b[0mattr\u001b[0m\u001b[0;34m)\u001b[0m \u001b[0;32mfor\u001b[0m \u001b[0mattr\u001b[0m \u001b[0;32min\u001b[0m \u001b[0mattributes\u001b[0m\u001b[0;34m]\u001b[0m\u001b[0;34m)\u001b[0m\u001b[0;34m:\u001b[0m\u001b[0;34m\u001b[0m\u001b[0;34m\u001b[0m\u001b[0m\n\u001b[0;32m--> 951\u001b[0;31m         \u001b[0;32mraise\u001b[0m \u001b[0mNotFittedError\u001b[0m\u001b[0;34m(\u001b[0m\u001b[0mmsg\u001b[0m \u001b[0;34m%\u001b[0m \u001b[0;34m{\u001b[0m\u001b[0;34m'name'\u001b[0m\u001b[0;34m:\u001b[0m \u001b[0mtype\u001b[0m\u001b[0;34m(\u001b[0m\u001b[0mestimator\u001b[0m\u001b[0;34m)\u001b[0m\u001b[0;34m.\u001b[0m\u001b[0m__name__\u001b[0m\u001b[0;34m}\u001b[0m\u001b[0;34m)\u001b[0m\u001b[0;34m\u001b[0m\u001b[0;34m\u001b[0m\u001b[0m\n\u001b[0m\u001b[1;32m    952\u001b[0m \u001b[0;34m\u001b[0m\u001b[0m\n\u001b[1;32m    953\u001b[0m \u001b[0;34m\u001b[0m\u001b[0m\n",
      "\u001b[0;31mNotFittedError\u001b[0m: This DecisionTreeClassifier instance is not fitted yet. Call 'fit' with appropriate arguments before using this method."
     ]
    }
   ],
   "source": [
    "#Predict the response for test dataset\n",
    "y_pred = clf.predict(X_test)"
   ]
  },
  {
   "cell_type": "code",
   "execution_count": 18,
   "metadata": {},
   "outputs": [
    {
     "data": {
      "text/plain": [
       "array(['diaporthe-stem-canker', 'diaporthe-stem-canker',\n",
       "       'diaporthe-stem-canker', 'diaporthe-stem-canker',\n",
       "       'diaporthe-stem-canker', 'diaporthe-stem-canker',\n",
       "       'diaporthe-stem-canker', 'diaporthe-stem-canker',\n",
       "       'diaporthe-stem-canker', 'diaporthe-stem-canker', 'charcoal-rot',\n",
       "       'charcoal-rot', 'charcoal-rot', 'charcoal-rot', 'charcoal-rot',\n",
       "       'charcoal-rot', 'charcoal-rot', 'charcoal-rot', 'charcoal-rot',\n",
       "       'charcoal-rot', 'rhizoctonia-root-rot', 'rhizoctonia-root-rot',\n",
       "       'rhizoctonia-root-rot', 'rhizoctonia-root-rot',\n",
       "       'rhizoctonia-root-rot', 'rhizoctonia-root-rot',\n",
       "       'rhizoctonia-root-rot', 'rhizoctonia-root-rot',\n",
       "       'rhizoctonia-root-rot', 'rhizoctonia-root-rot', 'phytophthora-rot',\n",
       "       'phytophthora-rot', 'phytophthora-rot', 'phytophthora-rot',\n",
       "       'phytophthora-rot', 'phytophthora-rot', 'phytophthora-rot',\n",
       "       'phytophthora-rot', 'phytophthora-rot', 'phytophthora-rot',\n",
       "       'phytophthora-rot', 'phytophthora-rot', 'phytophthora-rot',\n",
       "       'phytophthora-rot', 'phytophthora-rot', 'phytophthora-rot',\n",
       "       'phytophthora-rot', 'phytophthora-rot', 'phytophthora-rot',\n",
       "       'phytophthora-rot', 'phytophthora-rot', 'phytophthora-rot',\n",
       "       'phytophthora-rot', 'phytophthora-rot', 'phytophthora-rot',\n",
       "       'phytophthora-rot', 'phytophthora-rot', 'phytophthora-rot',\n",
       "       'phytophthora-rot', 'phytophthora-rot', 'phytophthora-rot',\n",
       "       'phytophthora-rot', 'phytophthora-rot', 'phytophthora-rot',\n",
       "       'phytophthora-rot', 'phytophthora-rot', 'phytophthora-rot',\n",
       "       'phytophthora-rot', 'phytophthora-rot', 'phytophthora-rot',\n",
       "       'brown-stem-rot', 'brown-stem-rot', 'brown-stem-rot',\n",
       "       'brown-stem-rot', 'brown-stem-rot', 'brown-stem-rot',\n",
       "       'brown-stem-rot', 'brown-stem-rot', 'brown-stem-rot',\n",
       "       'brown-stem-rot', 'brown-stem-rot', 'brown-stem-rot',\n",
       "       'brown-stem-rot', 'brown-stem-rot', 'brown-stem-rot',\n",
       "       'brown-stem-rot', 'brown-stem-rot', 'brown-stem-rot',\n",
       "       'brown-stem-rot', 'brown-stem-rot', 'powdery-mildew',\n",
       "       'powdery-mildew', 'powdery-mildew', 'powdery-mildew',\n",
       "       'powdery-mildew', 'powdery-mildew', 'powdery-mildew',\n",
       "       'powdery-mildew', 'powdery-mildew', 'powdery-mildew',\n",
       "       'downy-mildew', 'downy-mildew', 'downy-mildew', 'downy-mildew',\n",
       "       'downy-mildew', 'downy-mildew', 'downy-mildew', 'downy-mildew',\n",
       "       'downy-mildew', 'downy-mildew', 'brown-spot', 'brown-spot',\n",
       "       'brown-spot', 'brown-spot', 'brown-spot', 'brown-spot',\n",
       "       'brown-spot', 'brown-spot', 'brown-spot', 'brown-spot',\n",
       "       'brown-spot', 'brown-spot', 'brown-spot', 'brown-spot',\n",
       "       'brown-spot', 'brown-spot', 'brown-spot', 'brown-spot',\n",
       "       'brown-spot', 'brown-spot', 'brown-spot', 'brown-spot',\n",
       "       'brown-spot', 'brown-spot', 'brown-spot', 'brown-spot',\n",
       "       'brown-spot', 'brown-spot', 'brown-spot', 'brown-spot',\n",
       "       'brown-spot', 'brown-spot', 'brown-spot', 'brown-spot',\n",
       "       'brown-spot', 'brown-spot', 'brown-spot', 'brown-spot',\n",
       "       'brown-spot', 'brown-spot', 'bacterial-blight', 'bacterial-blight',\n",
       "       'bacterial-blight', 'bacterial-blight', 'bacterial-blight',\n",
       "       'bacterial-blight', 'bacterial-blight', 'bacterial-blight',\n",
       "       'bacterial-blight', 'bacterial-blight', 'bacterial-pustule',\n",
       "       'bacterial-pustule', 'bacterial-pustule', 'bacterial-pustule',\n",
       "       'bacterial-pustule', 'bacterial-pustule', 'bacterial-pustule',\n",
       "       'bacterial-pustule', 'bacterial-pustule', 'bacterial-pustule',\n",
       "       'purple-seed-stain', 'purple-seed-stain', 'purple-seed-stain',\n",
       "       'purple-seed-stain', 'purple-seed-stain', 'purple-seed-stain',\n",
       "       'purple-seed-stain', 'purple-seed-stain', 'purple-seed-stain',\n",
       "       'purple-seed-stain', 'anthracnose', 'anthracnose', 'anthracnose',\n",
       "       'anthracnose', 'anthracnose', 'anthracnose', 'anthracnose',\n",
       "       'anthracnose', 'anthracnose', 'anthracnose', 'anthracnose',\n",
       "       'anthracnose', 'anthracnose', 'anthracnose', 'anthracnose',\n",
       "       'anthracnose', 'anthracnose', 'anthracnose', 'anthracnose',\n",
       "       'anthracnose', 'phyllosticta-leaf-spot', 'phyllosticta-leaf-spot',\n",
       "       'phyllosticta-leaf-spot', 'phyllosticta-leaf-spot',\n",
       "       'phyllosticta-leaf-spot', 'phyllosticta-leaf-spot',\n",
       "       'phyllosticta-leaf-spot', 'phyllosticta-leaf-spot',\n",
       "       'phyllosticta-leaf-spot', 'phyllosticta-leaf-spot',\n",
       "       'alternarialeaf-spot', 'alternarialeaf-spot',\n",
       "       'alternarialeaf-spot', 'alternarialeaf-spot',\n",
       "       'alternarialeaf-spot', 'alternarialeaf-spot',\n",
       "       'alternarialeaf-spot', 'alternarialeaf-spot',\n",
       "       'alternarialeaf-spot', 'alternarialeaf-spot',\n",
       "       'alternarialeaf-spot', 'alternarialeaf-spot',\n",
       "       'alternarialeaf-spot', 'alternarialeaf-spot',\n",
       "       'alternarialeaf-spot', 'alternarialeaf-spot',\n",
       "       'alternarialeaf-spot', 'alternarialeaf-spot',\n",
       "       'alternarialeaf-spot', 'alternarialeaf-spot',\n",
       "       'alternarialeaf-spot', 'alternarialeaf-spot',\n",
       "       'alternarialeaf-spot', 'alternarialeaf-spot',\n",
       "       'alternarialeaf-spot', 'alternarialeaf-spot',\n",
       "       'alternarialeaf-spot', 'alternarialeaf-spot',\n",
       "       'alternarialeaf-spot', 'alternarialeaf-spot',\n",
       "       'alternarialeaf-spot', 'alternarialeaf-spot',\n",
       "       'alternarialeaf-spot', 'alternarialeaf-spot',\n",
       "       'alternarialeaf-spot', 'alternarialeaf-spot',\n",
       "       'alternarialeaf-spot', 'alternarialeaf-spot',\n",
       "       'alternarialeaf-spot', 'alternarialeaf-spot', 'frog-eye-leaf-spot',\n",
       "       'frog-eye-leaf-spot', 'frog-eye-leaf-spot', 'frog-eye-leaf-spot',\n",
       "       'frog-eye-leaf-spot', 'frog-eye-leaf-spot', 'frog-eye-leaf-spot',\n",
       "       'frog-eye-leaf-spot', 'frog-eye-leaf-spot', 'frog-eye-leaf-spot',\n",
       "       'frog-eye-leaf-spot', 'frog-eye-leaf-spot', 'frog-eye-leaf-spot',\n",
       "       'frog-eye-leaf-spot', 'frog-eye-leaf-spot', 'frog-eye-leaf-spot',\n",
       "       'frog-eye-leaf-spot', 'frog-eye-leaf-spot', 'frog-eye-leaf-spot',\n",
       "       'frog-eye-leaf-spot', 'frog-eye-leaf-spot', 'frog-eye-leaf-spot',\n",
       "       'frog-eye-leaf-spot', 'frog-eye-leaf-spot', 'frog-eye-leaf-spot',\n",
       "       'frog-eye-leaf-spot', 'frog-eye-leaf-spot', 'frog-eye-leaf-spot',\n",
       "       'frog-eye-leaf-spot', 'frog-eye-leaf-spot', 'frog-eye-leaf-spot',\n",
       "       'frog-eye-leaf-spot', 'frog-eye-leaf-spot', 'frog-eye-leaf-spot',\n",
       "       'frog-eye-leaf-spot', 'frog-eye-leaf-spot', 'frog-eye-leaf-spot',\n",
       "       'frog-eye-leaf-spot', 'frog-eye-leaf-spot', 'frog-eye-leaf-spot',\n",
       "       'diaporthe-pod-&-stem-blight', 'diaporthe-pod-&-stem-blight',\n",
       "       'diaporthe-pod-&-stem-blight', 'diaporthe-pod-&-stem-blight',\n",
       "       'diaporthe-pod-&-stem-blight', 'diaporthe-pod-&-stem-blight',\n",
       "       'cyst-nematode', 'cyst-nematode', 'cyst-nematode', 'cyst-nematode',\n",
       "       'cyst-nematode', 'cyst-nematode', '2-4-d-injury',\n",
       "       'herbicide-injury', 'herbicide-injury', 'herbicide-injury',\n",
       "       'herbicide-injury'], dtype=object)"
      ]
     },
     "execution_count": 18,
     "metadata": {},
     "output_type": "execute_result"
    }
   ],
   "source": [
    "Y.astype(c)"
   ]
  },
  {
   "cell_type": "code",
   "execution_count": 25,
   "metadata": {},
   "outputs": [
    {
     "ename": "AttributeError",
     "evalue": "'DataFrame' object has no attribute 'show'",
     "output_type": "error",
     "traceback": [
      "\u001b[0;31m---------------------------------------------------------------------------\u001b[0m",
      "\u001b[0;31mAttributeError\u001b[0m                            Traceback (most recent call last)",
      "\u001b[0;32m<ipython-input-25-31aae4b44a96>\u001b[0m in \u001b[0;36m<module>\u001b[0;34m\u001b[0m\n\u001b[0;32m----> 1\u001b[0;31m \u001b[0mdf_to_use\u001b[0m\u001b[0;34m.\u001b[0m\u001b[0mshow\u001b[0m\u001b[0;34m(\u001b[0m\u001b[0;34m)\u001b[0m\u001b[0;34m\u001b[0m\u001b[0;34m\u001b[0m\u001b[0m\n\u001b[0m",
      "\u001b[0;32m~/anaconda3/lib/python3.7/site-packages/pandas/core/generic.py\u001b[0m in \u001b[0;36m__getattr__\u001b[0;34m(self, name)\u001b[0m\n\u001b[1;32m   4374\u001b[0m             \u001b[0;32mif\u001b[0m \u001b[0mself\u001b[0m\u001b[0;34m.\u001b[0m\u001b[0m_info_axis\u001b[0m\u001b[0;34m.\u001b[0m\u001b[0m_can_hold_identifiers_and_holds_name\u001b[0m\u001b[0;34m(\u001b[0m\u001b[0mname\u001b[0m\u001b[0;34m)\u001b[0m\u001b[0;34m:\u001b[0m\u001b[0;34m\u001b[0m\u001b[0;34m\u001b[0m\u001b[0m\n\u001b[1;32m   4375\u001b[0m                 \u001b[0;32mreturn\u001b[0m \u001b[0mself\u001b[0m\u001b[0;34m[\u001b[0m\u001b[0mname\u001b[0m\u001b[0;34m]\u001b[0m\u001b[0;34m\u001b[0m\u001b[0;34m\u001b[0m\u001b[0m\n\u001b[0;32m-> 4376\u001b[0;31m             \u001b[0;32mreturn\u001b[0m \u001b[0mobject\u001b[0m\u001b[0;34m.\u001b[0m\u001b[0m__getattribute__\u001b[0m\u001b[0;34m(\u001b[0m\u001b[0mself\u001b[0m\u001b[0;34m,\u001b[0m \u001b[0mname\u001b[0m\u001b[0;34m)\u001b[0m\u001b[0;34m\u001b[0m\u001b[0;34m\u001b[0m\u001b[0m\n\u001b[0m\u001b[1;32m   4377\u001b[0m \u001b[0;34m\u001b[0m\u001b[0m\n\u001b[1;32m   4378\u001b[0m     \u001b[0;32mdef\u001b[0m \u001b[0m__setattr__\u001b[0m\u001b[0;34m(\u001b[0m\u001b[0mself\u001b[0m\u001b[0;34m,\u001b[0m \u001b[0mname\u001b[0m\u001b[0;34m,\u001b[0m \u001b[0mvalue\u001b[0m\u001b[0;34m)\u001b[0m\u001b[0;34m:\u001b[0m\u001b[0;34m\u001b[0m\u001b[0;34m\u001b[0m\u001b[0m\n",
      "\u001b[0;31mAttributeError\u001b[0m: 'DataFrame' object has no attribute 'show'"
     ]
    }
   ],
   "source": [
    "df_to_use"
   ]
  },
  {
   "cell_type": "code",
   "execution_count": null,
   "metadata": {},
   "outputs": [],
   "source": []
  }
 ],
 "metadata": {
  "kernelspec": {
   "display_name": "Python 3",
   "language": "python",
   "name": "python3"
  },
  "language_info": {
   "codemirror_mode": {
    "name": "ipython",
    "version": 3
   },
   "file_extension": ".py",
   "mimetype": "text/x-python",
   "name": "python",
   "nbconvert_exporter": "python",
   "pygments_lexer": "ipython3",
   "version": "3.7.1"
  }
 },
 "nbformat": 4,
 "nbformat_minor": 2
}
