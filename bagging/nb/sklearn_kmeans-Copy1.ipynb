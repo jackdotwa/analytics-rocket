{
 "cells": [
  {
   "cell_type": "markdown",
   "metadata": {},
   "source": [
    "## Sklearn k-means example"
   ]
  },
  {
   "cell_type": "markdown",
   "metadata": {},
   "source": [
    "### Imports"
   ]
  },
  {
   "cell_type": "code",
   "execution_count": 222,
   "metadata": {},
   "outputs": [
    {
     "data": {
      "text/html": [
       "<style>.container { width:75% !important; }</style>"
      ],
      "text/plain": [
       "<IPython.core.display.HTML object>"
      ]
     },
     "metadata": {},
     "output_type": "display_data"
    }
   ],
   "source": [
    "from IPython.core.display import display, HTML\n",
    "display(HTML(\"<style>.container { width:75% !important; }</style>\"))"
   ]
  },
  {
   "cell_type": "code",
   "execution_count": 309,
   "metadata": {},
   "outputs": [],
   "source": [
    "import numpy as np\n",
    "import random\n",
    "from time import time"
   ]
  },
  {
   "cell_type": "code",
   "execution_count": 310,
   "metadata": {},
   "outputs": [],
   "source": [
    "from scipy.stats import norm\n",
    "import matplotlib.pyplot as plt"
   ]
  },
  {
   "cell_type": "code",
   "execution_count": 311,
   "metadata": {},
   "outputs": [],
   "source": [
    "import sklearn as sk\n",
    "from sklearn import datasets\n",
    "from sklearn.datasets import load_digits\n",
    "from sklearn.cluster import KMeans\n",
    "from sklearn.preprocessing import scale\n",
    "from sklearn import metrics"
   ]
  },
  {
   "cell_type": "code",
   "execution_count": 312,
   "metadata": {},
   "outputs": [
    {
     "name": "stdout",
     "output_type": "stream",
     "text": [
      "1.0\n"
     ]
    }
   ],
   "source": [
    "from sklearn.metrics.cluster import completeness_score\n",
    "print(completeness_score([0, 0, 1, 1], [1, 1, 0, 0]))"
   ]
  },
  {
   "cell_type": "markdown",
   "metadata": {},
   "source": [
    "---\n",
    "### Functions"
   ]
  },
  {
   "cell_type": "code",
   "execution_count": 227,
   "metadata": {},
   "outputs": [],
   "source": [
    "def create_bag(data, bag_size=1.0, with_repeats=True):\n",
    "    data_length = data.shape[0]\n",
    "    bag_length = int(data_length*bag_size)\n",
    "    \n",
    "    bag = np.empty((0,data.shape[1]))\n",
    "    if with_repeats:\n",
    "        # just draw randomly\n",
    "#         print('Bagging with repeats')\n",
    "        for i in range(0, bag_length):\n",
    "            r = np.random.randint(0, data_length-1)\n",
    "            bag = np.vstack([bag, data[r]])\n",
    "            \n",
    "        return bag\n",
    "        \n",
    "    else:\n",
    "        # remove values from original set after selected\n",
    "#         print('Bagging with no repeats')\n",
    "        a = np.arange(0, data.shape[0])\n",
    "        sample = np.random.choice(a, bag_length)\n",
    "        \n",
    "        return data[sample, :]"
   ]
  },
  {
   "cell_type": "code",
   "execution_count": 228,
   "metadata": {},
   "outputs": [],
   "source": [
    "def print_class_ratios(y):\n",
    "    l = len(y)\n",
    "    \n",
    "    unique, counts = np.unique(y, return_counts=True)\n",
    "    print('Class \\t Count \\t Percentage')\n",
    "    for i in range(0, len(unique)):\n",
    "        perc = 100 * counts[i]/l\n",
    "        print('{} \\t {} \\t {:.2f} %'.format(int(unique[i]), counts[i], perc))"
   ]
  },
  {
   "cell_type": "code",
   "execution_count": 229,
   "metadata": {},
   "outputs": [],
   "source": [
    "def explain_data(X, y=None, problem_type='classification'):\n",
    "    print('X.shape: {}'.format(X.shape))\n",
    "    print('X first record: {}'.format(X[0]))\n",
    "    print()\n",
    "    \n",
    "    if y is not None:\n",
    "        print('y.shape: {}'.format(y.shape))\n",
    "        print('y first record: {}'.format(y[0]))\n",
    "        print()\n",
    "        \n",
    "        if problem_type == 'classification':\n",
    "            print_class_ratios(y)"
   ]
  },
  {
   "cell_type": "code",
   "execution_count": 434,
   "metadata": {},
   "outputs": [],
   "source": [
    "def calculate_centroids(data, n_classes=2):\n",
    "    \"\"\"\n",
    "    Takes a numpy array of shape (X,3) with the 3 columns being\n",
    "    x-coord, y-coord, label. \n",
    "    \"\"\"\n",
    "    \n",
    "    centroids = np.zeros((n_classes, 2))\n",
    "    counts = np.zeros((n_classes))\n",
    "    \n",
    "    for i in range(data.shape[0]):\n",
    "        current_class = int(data[i, -1])\n",
    "        counts[current_class] += 1\n",
    "        \n",
    "        centroids[current_class, 0] += data[i, 0]\n",
    "        centroids[current_class, 1] += data[i, 1]\n",
    "        \n",
    "    for i in range(0, n_classes):\n",
    "        centroids[i, :] = centroids[i, :] / counts[i]\n",
    "    \n",
    "#     print(centroids)\n",
    "    \n",
    "    return centroids"
   ]
  },
  {
   "cell_type": "code",
   "execution_count": 231,
   "metadata": {},
   "outputs": [],
   "source": [
    "def create_bagged_classifier_list(data, labels, n_iter=10):\n",
    "    labels = np.reshape(labels, (labels.shape[0], 1))\n",
    "    full_set = np.hstack([data, labels])\n",
    "    clf_config = {\n",
    "        'algorithm' : 'auto',\n",
    "        'copy_x' : True,\n",
    "        'init' : 'k-means++',\n",
    "        'max_iter' : 300,\n",
    "        'n_clusters' : 10,\n",
    "        'n_init' : 1,\n",
    "        'n_jobs' : None,\n",
    "        'precompute_distances' : 'auto',\n",
    "        'random_state' : None,\n",
    "        'tol' : 0.0001,\n",
    "        'verbose' : 0\n",
    "    }\n",
    "    \n",
    "    classifiers = []\n",
    "    bags = []\n",
    "    predicted_labels = []\n",
    "    for i in range(0, n_iter):\n",
    "        # Ensure all models get trained in the same way\n",
    "        np.random.seed(42)\n",
    "        \n",
    "        # Create n_iter number of untrained k-means classifiers with same hyperparameters\n",
    "        classifiers.append(KMeans(algorithm=clf_config['algorithm'], copy_x=clf_config['copy_x'],\n",
    "                                  init=clf_config['init'], max_iter=clf_config['max_iter'], n_clusters=clf_config['n_clusters'],\n",
    "                                  n_init=clf_config['n_init'], n_jobs=clf_config['n_jobs'],\n",
    "                                  precompute_distances=clf_config['precompute_distances'], \n",
    "                                  random_state=clf_config['random_state'], tol=clf_config['tol'],\n",
    "                                  verbose=clf_config['verbose']))\n",
    "        \n",
    "        # Create n_iter number of bags from the original data\n",
    "        bags.append(create_bag(full_set))\n",
    "        \n",
    "        # Split the data back into features/labels\n",
    "        features = bags[i][:,:-1]\n",
    "        labels = bags[i][:,-1]\n",
    "        \n",
    "        # Train classifier on one of the bags\n",
    "        classifiers[i].fit(features)\n",
    "        \n",
    "    return classifiers"
   ]
  },
  {
   "cell_type": "markdown",
   "metadata": {},
   "source": [
    "### Functions end              \n",
    "---"
   ]
  },
  {
   "cell_type": "markdown",
   "metadata": {},
   "source": [
    "### ************ ************************"
   ]
  },
  {
   "cell_type": "markdown",
   "metadata": {},
   "source": [
    "### **Gaussian dist**"
   ]
  },
  {
   "cell_type": "markdown",
   "metadata": {},
   "source": [
    "#### Create data points"
   ]
  },
  {
   "cell_type": "code",
   "execution_count": 354,
   "metadata": {},
   "outputs": [
    {
     "data": {
      "image/png": "[encoded data removed]",
      "text/plain": [
       "<Figure size 432x288 with 1 Axes>"
      ]
     },
     "metadata": {
      "needs_background": "light"
     },
     "output_type": "display_data"
    }
   ],
   "source": [
    "np.random.seed(42)\n",
    "\n",
    "cluster_1 = np.random.multivariate_normal([1,1], [[1,0],[0,1]], 100)\n",
    "cluster_2 = np.random.multivariate_normal([9,9], [[1,0],[0,1]], 100)\n",
    "\n",
    "fig = plt.figure()\n",
    "ax1 = fig.add_subplot(121)\n",
    "\n",
    "ax1.scatter(cluster_1[:,0], cluster_1[:,1], s=10, c='b', marker=\"s\", label='first')\n",
    "ax1.scatter(cluster_2[:,0], cluster_2[:,1], s=10, c='r', marker=\"o\", label='second')\n",
    "ax1.legend(loc='upper left');\n",
    "plt.show()"
   ]
  },
  {
   "cell_type": "markdown",
   "metadata": {},
   "source": [
    "#### Add labels"
   ]
  },
  {
   "cell_type": "code",
   "execution_count": 355,
   "metadata": {},
   "outputs": [
    {
     "data": {
      "text/plain": [
       "(200, 3)"
      ]
     },
     "execution_count": 355,
     "metadata": {},
     "output_type": "execute_result"
    }
   ],
   "source": [
    "# Assign labels to the 3rd columns\n",
    "cluster_1 = np.hstack([cluster_1, np.zeros((cluster_1.shape[0],1))])\n",
    "cluster_1[:,-1] = 0\n",
    "cluster_2 = np.hstack([cluster_2, np.zeros((cluster_2.shape[0],1))])\n",
    "cluster_2[:,-1] = 1\n",
    "\n",
    "# Concatenate the arrays together\n",
    "both_clusters = np.vstack([cluster_1, cluster_2])\n",
    "both_clusters.shape"
   ]
  },
  {
   "cell_type": "code",
   "execution_count": 356,
   "metadata": {},
   "outputs": [
    {
     "name": "stdout",
     "output_type": "stream",
     "text": [
      "X.shape: (200, 2)\n",
      "X first record: [0.85764116 3.05722174]\n",
      "\n",
      "y.shape: (200,)\n",
      "y first record: 0.0\n",
      "\n",
      "Class \t Count \t Percentage\n",
      "0 \t 100 \t 50.00 %\n",
      "1 \t 100 \t 50.00 %\n"
     ]
    }
   ],
   "source": [
    "data = both_clusters[:,:2]\n",
    "labels = both_clusters[:, -1]\n",
    "explain_data(data, labels)"
   ]
  },
  {
   "cell_type": "markdown",
   "metadata": {},
   "source": [
    "#### Train / test split"
   ]
  },
  {
   "cell_type": "code",
   "execution_count": 357,
   "metadata": {},
   "outputs": [
    {
     "name": "stdout",
     "output_type": "stream",
     "text": [
      "Training example \t\t Label\n",
      "[8.63855207 8.46902001] :\t 1.0\n",
      "[0.78166153 0.05034172] :\t 0.0\n",
      "[-0.38961345  1.61733228] :\t 0.0\n",
      "[0.62651371 0.53802903] :\t 0.0\n",
      "[0.51689422 0.39101631] :\t 0.0\n"
     ]
    }
   ],
   "source": [
    "# Train test split for gaussian data\n",
    "X_train, X_test, y_train, y_test = sk.model_selection.train_test_split(data, labels, test_size=0.3, random_state=42)\n",
    "\n",
    "print('Training example \\t\\t Label')\n",
    "for i in range(0,5):\n",
    "    print('{} :\\t {}'.format(X_train[i], y_train[i]))"
   ]
  },
  {
   "cell_type": "markdown",
   "metadata": {},
   "source": [
    "#### Fit model"
   ]
  },
  {
   "cell_type": "code",
   "execution_count": 358,
   "metadata": {},
   "outputs": [],
   "source": [
    "og_clf = KMeans(init='k-means++', n_clusters=2, n_init=10)\n",
    "og_clf_fit = og_clf.fit(X_train)\n",
    "X_train_pred = og_clf.fit_predict(X_train)"
   ]
  },
  {
   "cell_type": "markdown",
   "metadata": {},
   "source": [
    "#### Train \"accuracy\""
   ]
  },
  {
   "cell_type": "code",
   "execution_count": 359,
   "metadata": {},
   "outputs": [
    {
     "data": {
      "text/plain": [
       "array([0, 1, 1, 1, 1, 0, 1, 0, 1, 0, 1, 0, 0, 1, 0, 0, 1, 0, 0, 0, 1, 1,\n",
       "       1, 0, 0, 1, 0, 1, 0, 1, 1, 0, 0, 1, 1, 0, 0, 1, 1, 0, 1, 1, 0, 0,\n",
       "       0, 0, 1, 1, 0, 0, 0, 1, 0, 0, 1, 0, 1, 1, 0, 1, 1, 0, 0, 0, 1, 1,\n",
       "       0, 0, 1, 1, 0, 1, 1, 0, 1, 0, 1, 0, 1, 0, 0, 0, 0, 1, 1, 1, 1, 0,\n",
       "       1, 1, 0, 0, 1, 1, 1, 1, 0, 0, 1, 1, 0, 0, 0, 0, 1, 1, 0, 1, 0, 1,\n",
       "       1, 1, 1, 1, 0, 0, 0, 1, 0, 0, 1, 1, 0, 0, 0, 0, 1, 0, 1, 1, 0, 0,\n",
       "       1, 0, 1, 0, 1, 1, 0, 0], dtype=int32)"
      ]
     },
     "execution_count": 359,
     "metadata": {},
     "output_type": "execute_result"
    }
   ],
   "source": [
    "X_train_pred"
   ]
  },
  {
   "cell_type": "code",
   "execution_count": 360,
   "metadata": {},
   "outputs": [
    {
     "name": "stdout",
     "output_type": "stream",
     "text": [
      "OG training accuracy: 0.000 %\n"
     ]
    }
   ],
   "source": [
    "og_train_acc = metrics.accuracy_score(y_true=y_train, y_pred=X_train_pred, normalize=True, sample_weight=None)\n",
    "print('OG training accuracy: {:.3f} %'.format(og_train_acc*100))"
   ]
  },
  {
   "cell_type": "code",
   "execution_count": 361,
   "metadata": {},
   "outputs": [
    {
     "data": {
      "text/plain": [
       "<matplotlib.collections.PathCollection at 0x1a19a6e278>"
      ]
     },
     "execution_count": 361,
     "metadata": {},
     "output_type": "execute_result"
    },
    {
     "data": {
      "image/png": "[encoded data removed]",
      "text/plain": [
       "<Figure size 432x288 with 1 Axes>"
      ]
     },
     "metadata": {
      "needs_background": "light"
     },
     "output_type": "display_data"
    }
   ],
   "source": [
    "plt.title('K-Means training classification')\n",
    "plt.scatter(X_train[:, 0], X_train[:, 1], c=X_train_pred, s=50, cmap='rainbow')"
   ]
  },
  {
   "cell_type": "markdown",
   "metadata": {},
   "source": [
    "#### Test \"accuracy\""
   ]
  },
  {
   "cell_type": "code",
   "execution_count": 362,
   "metadata": {},
   "outputs": [
    {
     "name": "stdout",
     "output_type": "stream",
     "text": [
      "OG test accuracy: 0.000 %\n"
     ]
    }
   ],
   "source": [
    "predictions = og_clf.predict(X_test)\n",
    "og_test_acc = metrics.accuracy_score(y_true=y_test, y_pred=predictions, normalize=True, sample_weight=None)\n",
    "print('OG test accuracy: {:.3f} %'.format(og_test_acc*100))"
   ]
  },
  {
   "cell_type": "markdown",
   "metadata": {},
   "source": [
    "#### Centroids"
   ]
  },
  {
   "cell_type": "code",
   "execution_count": 363,
   "metadata": {
    "scrolled": true
   },
   "outputs": [
    {
     "name": "stdout",
     "output_type": "stream",
     "text": [
      "(140, 3)\n",
      "[[ 8.63855207  8.46902001  1.        ]\n",
      " [ 0.78166153  0.05034172  0.        ]\n",
      " [-0.38961345  1.61733228  0.        ]\n",
      " [ 0.62651371  0.53802903  0.        ]\n",
      " [ 0.51689422  0.39101631  0.        ]]\n"
     ]
    }
   ],
   "source": [
    "# Prepare data to calculate centroids with `calculate_centroids` function\n",
    "data = np.hstack([X_train, y_train.reshape((y_train.shape[0], 1))])\n",
    "print(data.shape)\n",
    "print(data[0:5])"
   ]
  },
  {
   "cell_type": "code",
   "execution_count": 364,
   "metadata": {
    "scrolled": true
   },
   "outputs": [
    {
     "name": "stdout",
     "output_type": "stream",
     "text": [
      "[[0.94393337 1.15328267]\n",
      " [9.17313001 8.94146579]]\n",
      "True centroids: \n",
      "[[0.94393337 1.15328267]\n",
      " [9.17313001 8.94146579]]\n",
      "Fitted centroids: \n",
      "[[9.17313001 8.94146579]\n",
      " [0.94393337 1.15328267]]\n"
     ]
    }
   ],
   "source": [
    "# Cluster centres of fitted (training) data vs true values \n",
    "train_centres = calculate_centroids(data)\n",
    "fitted_centres = og_clf_fit.cluster_centers_\n",
    "print('True centroids: \\n{}'.format(train_centres))\n",
    "print('Fitted centroids: \\n{}'.format(fitted_centres))"
   ]
  },
  {
   "cell_type": "markdown",
   "metadata": {},
   "source": [
    "#### Plot classes"
   ]
  },
  {
   "cell_type": "code",
   "execution_count": 377,
   "metadata": {},
   "outputs": [
    {
     "data": {
      "text/plain": [
       "<matplotlib.collections.PathCollection at 0x1a1a41e5f8>"
      ]
     },
     "execution_count": 377,
     "metadata": {},
     "output_type": "execute_result"
    },
    {
     "data": {
      "image/png": "[encoded data removed]",
      "text/plain": [
       "<Figure size 432x288 with 3 Axes>"
      ]
     },
     "metadata": {
      "needs_background": "light"
     },
     "output_type": "display_data"
    }
   ],
   "source": [
    "plt.subplot(1,3,1)\n",
    "plt.title('Predictions')\n",
    "plt.scatter(X_test[:, 0], X_test[:, 1], c=predictions, s=25, cmap='rainbow')\n",
    "plt.scatter(fitted_centres[:, 0], fitted_centres[:,1], s=100, c='k', marker=\"X\")\n",
    "\n",
    "plt.subplot(1,3,2)\n",
    "plt.title('Targets')\n",
    "plt.scatter(X_test[:, 0], X_test[:, 1], c=y_test, s=25, cmap='rainbow')\n",
    "plt.scatter(train_centres[:, 0], train_centres[:,1], s=100, c='k', marker=\"X\")\n",
    "\n",
    "plt.subplot(1,3,3)\n",
    "plt.title('Model labels')\n",
    "plt.scatter(X_train[:, 0], X_train[:, 1], c=og_clf.labels_, s=25, cmap='rainbow')"
   ]
  },
  {
   "cell_type": "code",
   "execution_count": 248,
   "metadata": {
    "scrolled": true
   },
   "outputs": [
    {
     "name": "stdout",
     "output_type": "stream",
     "text": [
      "predictions: [1 1 1 0 0 0 1 0 0 1 1 0 0 1 0 0 1 0 1 1 0 1 0 1 1 1 1 1 0 0 1 1 1 1 0 0 0\n",
      " 0 0 1 1 0 1 1 0 0 1 1 0 1 0 0 1 0 0 1 0 1 0 1]\n",
      "y_test: [0. 0. 0. 1. 1. 1. 0. 1. 1. 0. 0. 1. 1. 0. 1. 1. 0. 1. 0. 0. 1. 0. 1. 0.\n",
      " 0. 0. 0. 0. 1. 1. 0. 0. 0. 0. 1. 1. 1. 1. 1. 0. 0. 1. 0. 0. 1. 1. 0. 0.\n",
      " 1. 0. 1. 1. 0. 1. 1. 0. 1. 0. 1. 0.]\n"
     ]
    }
   ],
   "source": [
    "print('predictions: {}'.format(predictions))\n",
    "print('y_test: {}'.format(y_test))"
   ]
  },
  {
   "cell_type": "markdown",
   "metadata": {},
   "source": [
    "## Metrics"
   ]
  },
  {
   "cell_type": "code",
   "execution_count": 249,
   "metadata": {},
   "outputs": [
    {
     "name": "stdout",
     "output_type": "stream",
     "text": [
      "init\t\ttime\tinertia\thomo\tcompl\tv-meas\tARI\tAMI\tsilhouette\n",
      "Easy gaus (1)\t5.00s\t276\t1.000\t1.000\t1.000\t1.000\t1.000\t\n"
     ]
    }
   ],
   "source": [
    "name = 'Easy gaus (1)'\n",
    "print('init\\t\\ttime\\tinertia\\thomo\\tcompl\\tv-meas\\tARI\\tAMI\\tsilhouette')\n",
    "print('%-9s\\t%.2fs\\t%i\\t%.3f\\t%.3f\\t%.3f\\t%.3f\\t%.3f\\t'\n",
    "          % (name, 5, og_clf.inertia_,\n",
    "             metrics.homogeneity_score(y_test, predictions),\n",
    "             metrics.completeness_score(y_test, predictions),\n",
    "             metrics.v_measure_score(y_test, predictions),\n",
    "             metrics.adjusted_rand_score(y_test, predictions),\n",
    "             metrics.adjusted_mutual_info_score(y_test,  predictions,\n",
    "                                                average_method='arithmetic') ))"
   ]
  },
  {
   "cell_type": "markdown",
   "metadata": {},
   "source": [
    "###  Do all the things"
   ]
  },
  {
   "cell_type": "code",
   "execution_count": 461,
   "metadata": {},
   "outputs": [],
   "source": [
    "def do_all_the_things(clusters: list, test_set_size: float=0.3, km_model:sk.cluster.k_means_.KMeans=None):\n",
    "    \"\"\"\n",
    "    This functions will encapsulate basically all the code above so that it will train and measure a k-means classifier just by giving it a list of clustered points.\n",
    "    The clustered points at this point have to be 2d, but there can be any number of clusters in the list.\n",
    "    \n",
    "    Parameters: \n",
    "    clusters (list): A list of clustered points. The clustered points are expected to be numpy arrays of shape (n,2), where n in the number of points.\n",
    "    test_set_size (float): A float between 0 and 1 indicating the size, in percentage, of the test set (e.g. 0.3 = 30%).\n",
    "    km_model (sklearn.cluster.k_means_.KMeans): A Sklearn k-means model. You can pass you in if you want to override the default.\n",
    "  \n",
    "    Returns: \n",
    "    We shall see...\n",
    "    \"\"\"\n",
    "    # Assign labels to the 3rd columns\n",
    "    print('Adding labels...\\n')\n",
    "    for i in range(len(clusters)):\n",
    "        clusters[i] = np.hstack([clusters[i], np.zeros((clusters[i].shape[0],1))])\n",
    "        clusters[i][:,-1] = i\n",
    "        \n",
    "    # Concatenate the arrays together\n",
    "    print('Stacking clusters together...\\n')\n",
    "    stacked_cluster = np.empty((0,3))\n",
    "    for cluster in clusters:\n",
    "        print('cluster shape: {}'.format(cluster.shape))\n",
    "        stacked_cluster = np.vstack([stacked_cluster, cluster])\n",
    "        \n",
    "    print('Stacked clusters shape: {}\\n'.format(stacked_cluster.shape))\n",
    "    \n",
    "    data = stacked_cluster[:,:2]\n",
    "    labels = stacked_cluster[:, -1]\n",
    "    explain_data(data, labels)\n",
    "    \n",
    "    # ------------------------------------\n",
    "    # Train / Test split\n",
    "    \n",
    "    X_train, X_test, y_train, y_test = sk.model_selection.train_test_split(data, labels, test_size=test_set_size, random_state=42)\n",
    "    \n",
    "    if int(test_set_size) == 0:\n",
    "        print('\\nWARNING: test_set_size = 0. No test data will be generated.\\n')\n",
    "\n",
    "    print('Training example \\t\\t Label')\n",
    "    for i in range(0,5):\n",
    "        print('{} :\\t {}'.format(X_train[i], y_train[i]))\n",
    "        \n",
    "    # ------------------------------------\n",
    "    #                                  ***\n",
    "    # Fit the model\n",
    "    \n",
    "    if km_model is not None:\n",
    "        km_clf = km_model\n",
    "        print('\\nUsing user defined k-means model: \\n{}\\n'.format(km_clf))\n",
    "    else:\n",
    "        km_clf = KMeans(init='k-means++', n_clusters=2, n_init=10, random_state=42)\n",
    "        print('\\nUsing default k-means model: \\n{}\\n'.format(km_clf))\n",
    "        \n",
    "    # Fit to the training data\n",
    "    km_clf = km_clf.fit(X_train)  \n",
    "    # Get training predictions (clusters)\n",
    "    X_train_pred = km_clf.predict(X_train)\n",
    "    \n",
    "    # ------------------------------------\n",
    "    # Training \"accuracy\"\n",
    "    \n",
    "    km_train_acc = metrics.accuracy_score(y_true=y_train, y_pred=X_train_pred, normalize=True, sample_weight=None)\n",
    "    print('\\nK-means training accuracy: {:.3f} %'.format(km_train_acc*100))\n",
    "    \n",
    "    # ------------------------------------\n",
    "    # Scoring \"accuracy\"\n",
    "    \n",
    "    predictions = km_clf.predict(X_test)\n",
    "    km_test_acc = metrics.accuracy_score(y_true=y_test, y_pred=predictions, normalize=True, sample_weight=None)\n",
    "    print('K-means scoring accuracy: {:.3f} %'.format(km_test_acc*100))\n",
    "    \n",
    "    # ------------------------------------\n",
    "    # Centroids\n",
    "    \n",
    "    # Prepare data to calculate centroids with `calculate_centroids` function\n",
    "    data_train = np.hstack([X_train, y_train.reshape((y_train.shape[0], 1))])\n",
    "    data_test = np.hstack([X_test, y_test.reshape((y_test.shape[0], 1))])\n",
    "    \n",
    "    # Cluster centres of fitted (training) data vs true values \n",
    "#     print('\\nFitted centroids:')\n",
    "    fitted_centres = km_clf.cluster_centers_\n",
    "    print('\\nFitted centroids: \\n{}'.format(fitted_centres))\n",
    "    true_centres_train = calculate_centroids(data_train)\n",
    "    true_centres_test = calculate_centroids(data_test)\n",
    "    print('True centroids (training set): \\n{}'.format(true_centres_train))\n",
    "    print('True centroids (test set): \\n{}'.format(true_centres_test))\n",
    "    \n",
    "    # ------------------------------------\n",
    "    # Plotting the classes\n",
    "    \n",
    "    f = plt.figure(figsize=(14,7))\n",
    "    ax1 = f.add_subplot(221)\n",
    "    ax2 = f.add_subplot(222)\n",
    "    ax3 = f.add_subplot(223)\n",
    "    ax4 = f.add_subplot(224)\n",
    "    \n",
    "    ax1.title.set_text('Predictions')\n",
    "    ax1.scatter(X_test[:, 0], X_test[:, 1], c=predictions, s=25, cmap='rainbow')\n",
    "    ax1.scatter(fitted_centres[:, 0], fitted_centres[:,1], s=100, c='k', marker=\"X\")\n",
    "\n",
    "    ax2.title.set_text('Targets')\n",
    "    ax2.scatter(X_test[:, 0], X_test[:, 1], c=y_test, s=25, cmap='rainbow')\n",
    "    ax2.scatter(true_centres_test[:, 0], true_centres_test[:,1], s=100, c='k', marker=\"X\")\n",
    "\n",
    "    ax3.title.set_text('Training fit')\n",
    "    ax3.scatter(X_train[:, 0], X_train[:, 1], c=og_clf.labels_, s=25, cmap='rainbow')\n",
    "    ax3.scatter(fitted_centres[:, 0], fitted_centres[:,1], s=100, c='k', marker=\"X\")\n",
    "    \n",
    "    ax4.title.set_text('Training targets')\n",
    "    ax4.scatter(X_train[:, 0], X_train[:, 1], c=y_train, s=25, cmap='rainbow')\n",
    "    ax4.scatter(true_centres_train[:, 0], true_centres_train[:,1], s=100, c='k', marker=\"X\")\n",
    "    \n",
    "    # Add some padding to subplots\n",
    "    plt.subplots_adjust(left=None, bottom=None, right=None, top=None, wspace=0.5, hspace=0.5)\n",
    "    \n",
    "    # Return the k-means model\n",
    "    return km_clf\n",
    "    "
   ]
  },
  {
   "cell_type": "markdown",
   "metadata": {},
   "source": [
    "---\n",
    "#### Cluster group 2\n",
    "---"
   ]
  },
  {
   "cell_type": "code",
   "execution_count": 462,
   "metadata": {
    "scrolled": true
   },
   "outputs": [
    {
     "data": {
      "image/png": "[encoded data removed]",
      "text/plain": [
       "<Figure size 432x288 with 1 Axes>"
      ]
     },
     "metadata": {
      "needs_background": "light"
     },
     "output_type": "display_data"
    }
   ],
   "source": [
    "np.random.seed(42)\n",
    "\n",
    "cluster_1 = np.random.multivariate_normal([3,3], [[2,0],[0,2]], 100)\n",
    "cluster_2 = np.random.multivariate_normal([8,8], [[2,0],[0,2]], 100)\n",
    "\n",
    "fig = plt.figure()\n",
    "ax1 = fig.add_subplot(121)\n",
    "\n",
    "ax1.scatter(cluster_1[:,0], cluster_1[:,1], s=10, c='b', marker=\"s\", label='first')\n",
    "ax1.scatter(cluster_2[:,0], cluster_2[:,1], s=10, c='r', marker=\"o\", label='second')\n",
    "ax1.legend(loc='upper left');\n",
    "plt.show()"
   ]
  },
  {
   "cell_type": "code",
   "execution_count": 463,
   "metadata": {},
   "outputs": [],
   "source": [
    "cluster_list = [cluster_1, cluster_2]"
   ]
  },
  {
   "cell_type": "code",
   "execution_count": 464,
   "metadata": {},
   "outputs": [
    {
     "name": "stdout",
     "output_type": "stream",
     "text": [
      "Adding labels...\n",
      "\n",
      "Stacking clusters together...\n",
      "\n",
      "cluster shape: (100, 3)\n",
      "cluster shape: (100, 3)\n",
      "Stacked clusters shape: (200, 3)\n",
      "\n",
      "X.shape: (200, 2)\n",
      "X first record: [3.70245989 2.80446475]\n",
      "\n",
      "y.shape: (200,)\n",
      "y first record: 0.0\n",
      "\n",
      "Class \t Count \t Percentage\n",
      "0 \t 100 \t 50.00 %\n",
      "1 \t 100 \t 50.00 %\n",
      "\n",
      "WARNING: test_set_size = 0. No test data will be generated.\n",
      "\n",
      "Training example \t\t Label\n",
      "[8.58397326 7.20277309] :\t 1.0\n",
      "[3.24491481 3.54492106] :\t 0.0\n",
      "[1.43540608 1.30830837] :\t 0.0\n",
      "[2.23012657 3.15686823] :\t 0.0\n",
      "[3.51109057 5.17511217] :\t 0.0\n",
      "\n",
      "Using default k-means model: \n",
      "KMeans(algorithm='auto', copy_x=True, init='k-means++', max_iter=300,\n",
      "    n_clusters=2, n_init=10, n_jobs=None, precompute_distances='auto',\n",
      "    random_state=42, tol=0.0001, verbose=0)\n",
      "\n",
      "\n",
      "K-means training accuracy: 0.714 %\n",
      "K-means scoring accuracy: 0.000 %\n",
      "\n",
      "Fitted centroids: \n",
      "[[8.2364466  8.03899271]\n",
      " [2.93995208 3.13972997]]\n",
      "True centroids (training set): \n",
      "[[2.93305058 3.09028697]\n",
      " [8.16855518 8.01803925]]\n",
      "True centroids (test set): \n",
      "[[2.62181472 2.95424782]\n",
      " [8.21274796 8.16790675]]\n"
     ]
    },
    {
     "data": {
      "image/png": "[encoded data removed]",
      "text/plain": [
       "<Figure size 1008x504 with 4 Axes>"
      ]
     },
     "metadata": {
      "needs_background": "light"
     },
     "output_type": "display_data"
    }
   ],
   "source": [
    "km_clf = do_all_the_things(cluster_list)"
   ]
  },
  {
   "cell_type": "markdown",
   "metadata": {},
   "source": [
    "---\n",
    "#### Cluster group 3\n",
    "---"
   ]
  },
  {
   "cell_type": "code",
   "execution_count": 465,
   "metadata": {},
   "outputs": [
    {
     "data": {
      "image/png": "[encoded data removed]",
      "text/plain": [
       "<Figure size 432x288 with 1 Axes>"
      ]
     },
     "metadata": {
      "needs_background": "light"
     },
     "output_type": "display_data"
    }
   ],
   "source": [
    "np.random.seed(42)\n",
    "\n",
    "cluster_1 = np.random.multivariate_normal([3,3], [[4,0],[0,2]], 100)\n",
    "cluster_2 = np.random.multivariate_normal([8,8], [[2,0],[0,4]], 100)\n",
    "\n",
    "fig = plt.figure()\n",
    "ax1 = fig.add_subplot(121)\n",
    "\n",
    "ax1.scatter(cluster_1[:,0], cluster_1[:,1], s=10, c='b', marker=\"s\", label='first')\n",
    "ax1.scatter(cluster_2[:,0], cluster_2[:,1], s=10, c='r', marker=\"o\", label='second')\n",
    "ax1.legend(loc='upper left');\n",
    "plt.show()"
   ]
  },
  {
   "cell_type": "code",
   "execution_count": 466,
   "metadata": {},
   "outputs": [],
   "source": [
    "cluster_list = [cluster_1, cluster_2]"
   ]
  },
  {
   "cell_type": "code",
   "execution_count": 467,
   "metadata": {},
   "outputs": [
    {
     "name": "stdout",
     "output_type": "stream",
     "text": [
      "Adding labels...\n",
      "\n",
      "Stacking clusters together...\n",
      "\n",
      "cluster shape: (100, 3)\n",
      "cluster shape: (100, 3)\n",
      "Stacked clusters shape: (200, 3)\n",
      "\n",
      "X.shape: (200, 2)\n",
      "X first record: [3.99342831 2.80446475]\n",
      "\n",
      "y.shape: (200,)\n",
      "y first record: 0.0\n",
      "\n",
      "Class \t Count \t Percentage\n",
      "0 \t 100 \t 50.00 %\n",
      "1 \t 100 \t 50.00 %\n",
      "\n",
      "WARNING: test_set_size = 0. No test data will be generated.\n",
      "\n",
      "Training example \t\t Label\n",
      "[7.20277309 8.82586291] :\t 1.0\n",
      "[3.34636185 3.54492106] :\t 0.0\n",
      "[0.78733005 1.30830837] :\t 0.0\n",
      "[1.91123455 3.15686823] :\t 0.0\n",
      "[3.72279121 5.17511217] :\t 0.0\n",
      "\n",
      "Using default k-means model: \n",
      "KMeans(algorithm='auto', copy_x=True, init='k-means++', max_iter=300,\n",
      "    n_clusters=2, n_init=10, n_jobs=None, precompute_distances='auto',\n",
      "    random_state=42, tol=0.0001, verbose=0)\n",
      "\n",
      "\n",
      "K-means training accuracy: 1.429 %\n",
      "K-means scoring accuracy: 1.667 %\n",
      "\n",
      "Fitted centroids: \n",
      "[[8.05033361 8.40079436]\n",
      " [3.01795484 3.07745739]]\n",
      "True centroids (training set): \n",
      "[[2.90531923 3.09028697]\n",
      " [8.01803925 8.23837302]]\n",
      "True centroids (test set): \n",
      "[[2.46516524 2.95424782]\n",
      " [8.16790675 8.30087105]]\n"
     ]
    },
    {
     "data": {
      "image/png": "[encoded data removed]",
      "text/plain": [
       "<Figure size 1008x504 with 4 Axes>"
      ]
     },
     "metadata": {
      "needs_background": "light"
     },
     "output_type": "display_data"
    }
   ],
   "source": [
    "km_clf = do_all_the_things(cluster_list)"
   ]
  },
  {
   "cell_type": "markdown",
   "metadata": {},
   "source": []
  },
  {
   "cell_type": "markdown",
   "metadata": {},
   "source": [
    "---"
   ]
  },
  {
   "cell_type": "markdown",
   "metadata": {},
   "source": [
    "## MNIST"
   ]
  },
  {
   "cell_type": "markdown",
   "metadata": {},
   "source": [
    "### Data preparation"
   ]
  },
  {
   "cell_type": "code",
   "execution_count": 232,
   "metadata": {},
   "outputs": [],
   "source": [
    "np.random.seed(42)\n",
    "\n",
    "digits = load_digits()\n",
    "data = scale(digits.data)"
   ]
  },
  {
   "cell_type": "code",
   "execution_count": 233,
   "metadata": {},
   "outputs": [],
   "source": [
    "n_samples, n_features = data.shape\n",
    "n_digits = len(np.unique(digits.target))\n",
    "labels = digits.target"
   ]
  },
  {
   "cell_type": "code",
   "execution_count": 234,
   "metadata": {
    "scrolled": true
   },
   "outputs": [
    {
     "name": "stdout",
     "output_type": "stream",
     "text": [
      "X.shape: (1797, 64)\n",
      "X first record: [ 0.         -0.33501649 -0.04308102  0.27407152 -0.66447751 -0.84412939\n",
      " -0.40972392 -0.12502292 -0.05907756 -0.62400926  0.4829745   0.75962245\n",
      " -0.05842586  1.12772113  0.87958306 -0.13043338 -0.04462507  0.11144272\n",
      "  0.89588044 -0.86066632 -1.14964846  0.51547187  1.90596347 -0.11422184\n",
      " -0.03337973  0.48648928  0.46988512 -1.49990136 -1.61406277  0.07639777\n",
      "  1.54181413 -0.04723238  0.          0.76465553  0.05263019 -1.44763006\n",
      " -1.73666443  0.04361588  1.43955804  0.         -0.06134367  0.8105536\n",
      "  0.63011714 -1.12245711 -1.06623158  0.66096475  0.81845076 -0.08874162\n",
      " -0.03543326  0.74211893  1.15065212 -0.86867056  0.11012973  0.53761116\n",
      " -0.75743581 -0.20978513 -0.02359646 -0.29908135  0.08671869  0.20829258\n",
      " -0.36677122 -1.14664746 -0.5056698  -0.19600752]\n",
      "\n",
      "y.shape: (1797,)\n",
      "y first record: 0\n",
      "\n",
      "Class \t Count \t Percentage\n",
      "0 \t 178 \t 9.91 %\n",
      "1 \t 182 \t 10.13 %\n",
      "2 \t 177 \t 9.85 %\n",
      "3 \t 183 \t 10.18 %\n",
      "4 \t 181 \t 10.07 %\n",
      "5 \t 182 \t 10.13 %\n",
      "6 \t 181 \t 10.07 %\n",
      "7 \t 179 \t 9.96 %\n",
      "8 \t 174 \t 9.68 %\n",
      "9 \t 180 \t 10.02 %\n"
     ]
    }
   ],
   "source": [
    "explain_data(data, labels)"
   ]
  },
  {
   "cell_type": "markdown",
   "metadata": {},
   "source": [
    "---"
   ]
  },
  {
   "cell_type": "markdown",
   "metadata": {},
   "source": [
    "### Training & Testing"
   ]
  },
  {
   "cell_type": "markdown",
   "metadata": {},
   "source": [
    "#### Split train/test data"
   ]
  },
  {
   "cell_type": "code",
   "execution_count": 35,
   "metadata": {},
   "outputs": [],
   "source": [
    "X_train, X_test, y_train, y_test = sk.model_selection.train_test_split(data, labels, test_size=0.3, random_state=42)"
   ]
  },
  {
   "cell_type": "code",
   "execution_count": 36,
   "metadata": {},
   "outputs": [
    {
     "name": "stdout",
     "output_type": "stream",
     "text": [
      "(140, 2)\n",
      "(60, 2)\n",
      "(140,)\n",
      "(60,)\n"
     ]
    }
   ],
   "source": [
    "print(X_train.shape)\n",
    "print(X_test.shape)\n",
    "print(y_train.shape)\n",
    "print(y_test.shape)"
   ]
  },
  {
   "cell_type": "markdown",
   "metadata": {},
   "source": [
    "### Fit OG model"
   ]
  },
  {
   "cell_type": "code",
   "execution_count": 18,
   "metadata": {},
   "outputs": [
    {
     "data": {
      "text/plain": [
       "KMeans(algorithm='auto', copy_x=True, init='k-means++', max_iter=300,\n",
       "    n_clusters=10, n_init=1, n_jobs=None, precompute_distances='auto',\n",
       "    random_state=None, tol=0.0001, verbose=0)"
      ]
     },
     "execution_count": 18,
     "metadata": {},
     "output_type": "execute_result"
    }
   ],
   "source": [
    "og_clf = KMeans(init='k-means++', n_clusters=n_digits, n_init=1)\n",
    "og_clf.fit(X_train)"
   ]
  },
  {
   "cell_type": "code",
   "execution_count": 19,
   "metadata": {},
   "outputs": [
    {
     "name": "stdout",
     "output_type": "stream",
     "text": [
      "OG training accuracy: 4.296 %\n"
     ]
    }
   ],
   "source": [
    "og_train_acc = metrics.accuracy_score(y_true=y_train, y_pred=og_clf.labels_, normalize=True, sample_weight=None)\n",
    "print('OG training accuracy: {:.3f} %'.format(og_train_acc*100))"
   ]
  },
  {
   "cell_type": "code",
   "execution_count": 20,
   "metadata": {},
   "outputs": [
    {
     "name": "stdout",
     "output_type": "stream",
     "text": [
      "OG test accuracy: 5.926 %\n"
     ]
    }
   ],
   "source": [
    "og_predictions = og_clf.predict(X_test)\n",
    "\n",
    "og_test_acc = metrics.accuracy_score(y_true=y_test, y_pred=og_predictions, normalize=True, sample_weight=None)\n",
    "print('OG test accuracy: {:.3f} %'.format(og_test_acc*100))"
   ]
  },
  {
   "cell_type": "markdown",
   "metadata": {},
   "source": [
    "### Get bagging results"
   ]
  },
  {
   "cell_type": "code",
   "execution_count": 21,
   "metadata": {},
   "outputs": [],
   "source": [
    "clf_list = create_bagged_classifier_list(X_train, y_train, n_iter=50)"
   ]
  },
  {
   "cell_type": "code",
   "execution_count": 22,
   "metadata": {},
   "outputs": [],
   "source": [
    "def get_bagged_predictions(clf_list, X_test, y_test, verbose=False):\n",
    "    pred_list = np.empty((X_test.shape[0], 0), dtype=int)\n",
    "    bagged_predictions = []\n",
    "    \n",
    "    # Get predicted classes for every model\n",
    "    for i in range(0, len(clf_list)):\n",
    "        preds = np.array(clf_list[i].predict(X_test)).reshape((len(X_test), 1))\n",
    "        \n",
    "        if verbose:\n",
    "            print('pred_list.shape: {}'.format(pred_list.shape))\n",
    "    #         print(pred_list)\n",
    "    #         print('preds.shape: {}'.format(preds.shape))\n",
    "    #         print(preds)\n",
    "        \n",
    "        pred_list = np.hstack([pred_list, preds])\n",
    "        \n",
    "        if y_test is not None and verbose:\n",
    "            print('This model\\'s prediction accuracy: {:.2f}%'.format(\n",
    "                   metrics.accuracy_score(y_true=y_test, y_pred=preds, normalize=True, sample_weight=None)*100))\n",
    "        \n",
    "    # For every record, vote between models and pick the most popular answer (could be improved)\n",
    "    for i in range(0, pred_list.shape[0]):\n",
    "        counts = np.bincount(pred_list[i, :])\n",
    "        bagged_predictions.append(np.argmax(counts))\n",
    "        \n",
    "    return bagged_predictions"
   ]
  },
  {
   "cell_type": "code",
   "execution_count": 23,
   "metadata": {},
   "outputs": [],
   "source": [
    "bagged_predictions = get_bagged_predictions(clf_list, X_test, y_test, verbose=False)"
   ]
  },
  {
   "cell_type": "code",
   "execution_count": 24,
   "metadata": {},
   "outputs": [
    {
     "data": {
      "text/plain": [
       "(540,)"
      ]
     },
     "execution_count": 24,
     "metadata": {},
     "output_type": "execute_result"
    }
   ],
   "source": [
    "bagged_predictions = np.array(bagged_predictions)\n",
    "bagged_predictions.shape"
   ]
  },
  {
   "cell_type": "code",
   "execution_count": 25,
   "metadata": {},
   "outputs": [
    {
     "data": {
      "text/plain": [
       "(540,)"
      ]
     },
     "execution_count": 25,
     "metadata": {},
     "output_type": "execute_result"
    }
   ],
   "source": [
    "y_test.shape"
   ]
  },
  {
   "cell_type": "code",
   "execution_count": 26,
   "metadata": {},
   "outputs": [
    {
     "name": "stdout",
     "output_type": "stream",
     "text": [
      "Bagged test accuracy: 2.222 %\n"
     ]
    }
   ],
   "source": [
    "bagged_test_acc = metrics.accuracy_score(y_true=y_test, y_pred=bagged_predictions, normalize=True, sample_weight=None)\n",
    "print('Bagged test accuracy: {:.3f} %'.format(bagged_test_acc*100))"
   ]
  },
  {
   "cell_type": "code",
   "execution_count": 27,
   "metadata": {},
   "outputs": [
    {
     "name": "stdout",
     "output_type": "stream",
     "text": [
      "[0 1 1 4 5 0 2 3 2 5 2 1 0 1 6]\n",
      "[6 9 3 7 2 1 5 2 5 2 1 9 4 0 4]\n"
     ]
    }
   ],
   "source": [
    "print(bagged_predictions[0:15])\n",
    "print(y_test[0:15])"
   ]
  },
  {
   "cell_type": "code",
   "execution_count": 28,
   "metadata": {},
   "outputs": [
    {
     "name": "stdout",
     "output_type": "stream",
     "text": [
      "Single model k-means accuracy: \t\t5.926 %\n",
      "vs.\n",
      "Multiple models trained with bagging: \t2.222 %\n"
     ]
    }
   ],
   "source": [
    "print('Single model k-means accuracy: \\t\\t{:.3f} %'.format(og_test_acc*100))\n",
    "print('vs.')\n",
    "print('Multiple models trained with bagging: \\t{:.3f} %'.format(bagged_test_acc*100))"
   ]
  },
  {
   "cell_type": "code",
   "execution_count": null,
   "metadata": {},
   "outputs": [],
   "source": []
  }
 ],
 "metadata": {
  "kernelspec": {
   "display_name": "Python 3",
   "language": "python",
   "name": "python3"
  },
  "language_info": {
   "codemirror_mode": {
    "name": "ipython",
    "version": 3
   },
   "file_extension": ".py",
   "mimetype": "text/x-python",
   "name": "python",
   "nbconvert_exporter": "python",
   "pygments_lexer": "ipython3",
   "version": "3.7.1"
  }
 },
 "nbformat": 4,
 "nbformat_minor": 2
}
