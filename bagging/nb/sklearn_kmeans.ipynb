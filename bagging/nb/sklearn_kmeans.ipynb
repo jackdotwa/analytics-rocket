{
 "cells": [
  {
   "cell_type": "markdown",
   "metadata": {},
   "source": [
    "## Sklearn k-means example"
   ]
  },
  {
   "cell_type": "markdown",
   "metadata": {},
   "source": [
    "### Imports"
   ]
  },
  {
   "cell_type": "code",
   "execution_count": 1,
   "metadata": {},
   "outputs": [],
   "source": [
    "import numpy as np\n",
    "import random\n",
    "from time import time"
   ]
  },
  {
   "cell_type": "code",
   "execution_count": 2,
   "metadata": {},
   "outputs": [],
   "source": [
    "import sklearn as sk\n",
    "from sklearn import datasets\n",
    "from sklearn.datasets import load_digits\n",
    "from sklearn.cluster import KMeans\n",
    "from sklearn.preprocessing import scale\n",
    "from sklearn import metrics"
   ]
  },
  {
   "cell_type": "markdown",
   "metadata": {},
   "source": [
    "### Functions"
   ]
  },
  {
   "cell_type": "code",
   "execution_count": 3,
   "metadata": {},
   "outputs": [],
   "source": [
    "def create_bag(data, bag_size=1.0, with_repeats=True):\n",
    "    data_length = data.shape[0]\n",
    "    bag_length = int(data_length*bag_size)\n",
    "    \n",
    "    bag = np.empty((0,data.shape[1]))\n",
    "    if with_repeats:\n",
    "        # just draw randomly\n",
    "#         print('Bagging with repeats')\n",
    "        for i in range(0, bag_length):\n",
    "            r = np.random.randint(0, data_length-1)\n",
    "            bag = np.vstack([bag, data[r]])\n",
    "            \n",
    "        return bag\n",
    "        \n",
    "    else:\n",
    "        # remove values from original set after selected\n",
    "#         print('Bagging with no repeats')\n",
    "        a = np.arange(0, data.shape[0])\n",
    "        sample = np.random.choice(a, bag_length)\n",
    "        \n",
    "        return data[sample, :]"
   ]
  },
  {
   "cell_type": "code",
   "execution_count": 4,
   "metadata": {},
   "outputs": [],
   "source": [
    "def print_class_ratios(y):\n",
    "    l = len(y)\n",
    "    \n",
    "    unique, counts = np.unique(y, return_counts=True)\n",
    "    print('Class \\t Count \\t Percentage')\n",
    "    for i in range(0, len(unique)):\n",
    "        perc = 100 * counts[i]/l\n",
    "        print('{} \\t {} \\t {:.2f} %'.format(int(unique[i]), counts[i], perc))"
   ]
  },
  {
   "cell_type": "code",
   "execution_count": 5,
   "metadata": {},
   "outputs": [],
   "source": [
    "def explain_data(X, y=None, problem_type='classification'):\n",
    "    print('X.shape: {}'.format(X.shape))\n",
    "    print('X first record: {}'.format(X[0]))\n",
    "    print()\n",
    "    \n",
    "    if y is not None:\n",
    "        print('y.shape: {}'.format(y.shape))\n",
    "        print('y first record: {}'.format(y[0]))\n",
    "        print()\n",
    "        \n",
    "        if problem_type == 'classification':\n",
    "            print_class_ratios(y)"
   ]
  },
  {
   "cell_type": "markdown",
   "metadata": {},
   "source": [
    "### Data preparation"
   ]
  },
  {
   "cell_type": "code",
   "execution_count": 6,
   "metadata": {},
   "outputs": [],
   "source": [
    "np.random.seed(42)\n",
    "\n",
    "digits = load_digits()\n",
    "data = scale(digits.data)"
   ]
  },
  {
   "cell_type": "code",
   "execution_count": 7,
   "metadata": {},
   "outputs": [],
   "source": [
    "n_samples, n_features = data.shape\n",
    "n_digits = len(np.unique(digits.target))\n",
    "labels = digits.target"
   ]
  },
  {
   "cell_type": "code",
   "execution_count": 8,
   "metadata": {},
   "outputs": [
    {
     "name": "stdout",
     "output_type": "stream",
     "text": [
      "X.shape: (1797, 64)\n",
      "X first record: [ 0.         -0.33501649 -0.04308102  0.27407152 -0.66447751 -0.84412939\n",
      " -0.40972392 -0.12502292 -0.05907756 -0.62400926  0.4829745   0.75962245\n",
      " -0.05842586  1.12772113  0.87958306 -0.13043338 -0.04462507  0.11144272\n",
      "  0.89588044 -0.86066632 -1.14964846  0.51547187  1.90596347 -0.11422184\n",
      " -0.03337973  0.48648928  0.46988512 -1.49990136 -1.61406277  0.07639777\n",
      "  1.54181413 -0.04723238  0.          0.76465553  0.05263019 -1.44763006\n",
      " -1.73666443  0.04361588  1.43955804  0.         -0.06134367  0.8105536\n",
      "  0.63011714 -1.12245711 -1.06623158  0.66096475  0.81845076 -0.08874162\n",
      " -0.03543326  0.74211893  1.15065212 -0.86867056  0.11012973  0.53761116\n",
      " -0.75743581 -0.20978513 -0.02359646 -0.29908135  0.08671869  0.20829258\n",
      " -0.36677122 -1.14664746 -0.5056698  -0.19600752]\n",
      "\n",
      "y.shape: (1797,)\n",
      "y first record: 0\n",
      "\n",
      "Class \t Count \t Percentage\n",
      "0 \t 178 \t 9.91 %\n",
      "1 \t 182 \t 10.13 %\n",
      "2 \t 177 \t 9.85 %\n",
      "3 \t 183 \t 10.18 %\n",
      "4 \t 181 \t 10.07 %\n",
      "5 \t 182 \t 10.13 %\n",
      "6 \t 181 \t 10.07 %\n",
      "7 \t 179 \t 9.96 %\n",
      "8 \t 174 \t 9.68 %\n",
      "9 \t 180 \t 10.02 %\n"
     ]
    }
   ],
   "source": [
    "explain_data(data, labels)"
   ]
  },
  {
   "cell_type": "code",
   "execution_count": 9,
   "metadata": {},
   "outputs": [],
   "source": [
    "# KMeans?"
   ]
  },
  {
   "cell_type": "code",
   "execution_count": 10,
   "metadata": {},
   "outputs": [],
   "source": [
    "def create_bagged_classifier_list(data, labels, n_iter=10):\n",
    "    labels = np.reshape(labels, (labels.shape[0], 1))\n",
    "    full_set = np.hstack([data, labels])\n",
    "    clf_config = {\n",
    "        'algorithm' : 'auto',\n",
    "        'copy_x' : True,\n",
    "        'init' : 'k-means++',\n",
    "        'max_iter' : 300,\n",
    "        'n_clusters' : 10,\n",
    "        'n_init' : 10,\n",
    "        'n_jobs' : None,\n",
    "        'precompute_distances' : 'auto',\n",
    "        'random_state' : None,\n",
    "        'tol' : 0.0001,\n",
    "        'verbose' : 0\n",
    "    }\n",
    "    \n",
    "    classifiers = []\n",
    "    bags = []\n",
    "    predicted_labels = []\n",
    "    for i in range(0, n_iter):\n",
    "        # Ensure all models get trained in the same way\n",
    "        np.random.seed(42)\n",
    "        \n",
    "        # Create n_iter number of untrained k-means classifiers with same hyperparameters\n",
    "        classifiers.append(KMeans(algorithm=clf_config['algorithm'], copy_x=clf_config['copy_x'],\n",
    "                                  init=clf_config['init'], max_iter=clf_config['max_iter'], n_clusters=clf_config['n_clusters'],\n",
    "                                  n_init=clf_config['n_init'], n_jobs=clf_config['n_jobs'],\n",
    "                                  precompute_distances=clf_config['precompute_distances'], \n",
    "                                  random_state=clf_config['random_state'], tol=clf_config['tol'],\n",
    "                                  verbose=clf_config['verbose']))\n",
    "        \n",
    "        # Create n_iter number of bags from the original data\n",
    "        bags.append(create_bag(full_set))\n",
    "        \n",
    "        # Split the data back into features/labels\n",
    "        features = bags[i][:,:-1]\n",
    "        labels = bags[i][:,-1]\n",
    "        \n",
    "        # Train classifier on one of the bags\n",
    "        classifiers[i].fit(features)\n",
    "        \n",
    "    return classifiers"
   ]
  },
  {
   "cell_type": "markdown",
   "metadata": {},
   "source": [
    "### Training & Testing"
   ]
  },
  {
   "cell_type": "markdown",
   "metadata": {},
   "source": [
    "#### Split train/test data"
   ]
  },
  {
   "cell_type": "code",
   "execution_count": 11,
   "metadata": {},
   "outputs": [],
   "source": [
    "X_train, X_test, y_train, y_test = sk.model_selection.train_test_split(data, labels, test_size=0.3, random_state=42)"
   ]
  },
  {
   "cell_type": "code",
   "execution_count": 12,
   "metadata": {},
   "outputs": [
    {
     "name": "stdout",
     "output_type": "stream",
     "text": [
      "(1257, 64)\n",
      "(540, 64)\n",
      "(1257,)\n",
      "(540,)\n"
     ]
    }
   ],
   "source": [
    "print(X_train.shape)\n",
    "print(X_test.shape)\n",
    "print(y_train.shape)\n",
    "print(y_test.shape)"
   ]
  },
  {
   "cell_type": "markdown",
   "metadata": {},
   "source": [
    "### Fit OG model"
   ]
  },
  {
   "cell_type": "code",
   "execution_count": 13,
   "metadata": {},
   "outputs": [
    {
     "data": {
      "text/plain": [
       "KMeans(algorithm='auto', copy_x=True, init='k-means++', max_iter=300,\n",
       "    n_clusters=10, n_init=10, n_jobs=None, precompute_distances='auto',\n",
       "    random_state=None, tol=0.0001, verbose=0)"
      ]
     },
     "execution_count": 13,
     "metadata": {},
     "output_type": "execute_result"
    }
   ],
   "source": [
    "og_clf = KMeans(init='k-means++', n_clusters=n_digits, n_init=10)\n",
    "og_clf.fit(X_train)"
   ]
  },
  {
   "cell_type": "code",
   "execution_count": 14,
   "metadata": {},
   "outputs": [
    {
     "name": "stdout",
     "output_type": "stream",
     "text": [
      "OG training accuracy: 12.490 %\n"
     ]
    }
   ],
   "source": [
    "og_train_acc = metrics.accuracy_score(y_true=y_train, y_pred=og_clf.labels_, normalize=True, sample_weight=None)\n",
    "print('OG training accuracy: {:.3f} %'.format(og_train_acc*100))"
   ]
  },
  {
   "cell_type": "code",
   "execution_count": 15,
   "metadata": {},
   "outputs": [
    {
     "name": "stdout",
     "output_type": "stream",
     "text": [
      "OG test accuracy: 11.852 %\n"
     ]
    }
   ],
   "source": [
    "og_predictions = og_clf.predict(X_test)\n",
    "\n",
    "og_test_acc = metrics.accuracy_score(y_true=y_test, y_pred=og_predictions, normalize=True, sample_weight=None)\n",
    "print('OG test accuracy: {:.3f} %'.format(og_test_acc*100))"
   ]
  },
  {
   "cell_type": "markdown",
   "metadata": {},
   "source": [
    "### Get bagging results"
   ]
  },
  {
   "cell_type": "code",
   "execution_count": 16,
   "metadata": {},
   "outputs": [],
   "source": [
    "clf_list = create_bagged_classifier_list(X_train, y_train, n_iter=50)"
   ]
  },
  {
   "cell_type": "code",
   "execution_count": 17,
   "metadata": {},
   "outputs": [],
   "source": [
    "def get_bagged_predictions(clf_list, X_test, y_test, verbose=False):\n",
    "    pred_list = np.empty((X_test.shape[0], 0), dtype=int)\n",
    "    bagged_predictions = []\n",
    "    \n",
    "    # Get predicted classes for every model\n",
    "    for i in range(0, len(clf_list)):\n",
    "        preds = np.array(clf_list[i].predict(X_test)).reshape((len(X_test), 1))\n",
    "        \n",
    "        if verbose:\n",
    "            print('pred_list.shape: {}'.format(pred_list.shape))\n",
    "    #         print(pred_list)\n",
    "    #         print('preds.shape: {}'.format(preds.shape))\n",
    "    #         print(preds)\n",
    "        \n",
    "        pred_list = np.hstack([pred_list, preds])\n",
    "        \n",
    "        if y_test is not None and verbose:\n",
    "            print('This model\\'s prediction accuracy: {:.2f}%'.format(\n",
    "                   metrics.accuracy_score(y_true=y_test, y_pred=preds, normalize=True, sample_weight=None)*100))\n",
    "        \n",
    "    # For every record, vote between models and pick the most popular answer (could be improved)\n",
    "    for i in range(0, pred_list.shape[0]):\n",
    "        counts = np.bincount(pred_list[i, :])\n",
    "        bagged_predictions.append(np.argmax(counts))\n",
    "        \n",
    "    return bagged_predictions"
   ]
  },
  {
   "cell_type": "code",
   "execution_count": 18,
   "metadata": {},
   "outputs": [],
   "source": [
    "bagged_predictions = get_bagged_predictions(clf_list, X_test, y_test, verbose=False)"
   ]
  },
  {
   "cell_type": "code",
   "execution_count": 19,
   "metadata": {},
   "outputs": [
    {
     "data": {
      "text/plain": [
       "(540,)"
      ]
     },
     "execution_count": 19,
     "metadata": {},
     "output_type": "execute_result"
    }
   ],
   "source": [
    "bagged_predictions = np.array(bagged_predictions)\n",
    "bagged_predictions.shape"
   ]
  },
  {
   "cell_type": "code",
   "execution_count": 20,
   "metadata": {},
   "outputs": [
    {
     "data": {
      "text/plain": [
       "(540,)"
      ]
     },
     "execution_count": 20,
     "metadata": {},
     "output_type": "execute_result"
    }
   ],
   "source": [
    "y_test.shape"
   ]
  },
  {
   "cell_type": "code",
   "execution_count": 21,
   "metadata": {},
   "outputs": [
    {
     "name": "stdout",
     "output_type": "stream",
     "text": [
      "Bagged test accuracy: 39.074 %\n"
     ]
    }
   ],
   "source": [
    "bagged_test_acc = metrics.accuracy_score(y_true=y_test, y_pred=bagged_predictions, normalize=True, sample_weight=None)\n",
    "print('Bagged test accuracy: {:.3f} %'.format(bagged_test_acc*100))"
   ]
  },
  {
   "cell_type": "code",
   "execution_count": 22,
   "metadata": {},
   "outputs": [
    {
     "name": "stdout",
     "output_type": "stream",
     "text": [
      "[7 3 3 9 5 2 6 6 6 5 1 6 4 0 4]\n",
      "[6 9 3 7 2 1 5 2 5 2 1 9 4 0 4]\n"
     ]
    }
   ],
   "source": [
    "print(bagged_predictions[0:15])\n",
    "print(y_test[0:15])"
   ]
  },
  {
   "cell_type": "code",
   "execution_count": 23,
   "metadata": {},
   "outputs": [
    {
     "name": "stdout",
     "output_type": "stream",
     "text": [
      "Single model k-means accuracy: \t\t11.852 %\n",
      "vs.\n",
      "Multiple models trained with bagging: \t39.074 %\n"
     ]
    }
   ],
   "source": [
    "print('Single model k-means accuracy: \\t\\t{:.3f} %'.format(og_test_acc*100))\n",
    "print('vs.')\n",
    "print('Multiple models trained with bagging: \\t{:.3f} %'.format(bagged_test_acc*100))"
   ]
  },
  {
   "cell_type": "code",
   "execution_count": null,
   "metadata": {},
   "outputs": [],
   "source": []
  }
 ],
 "metadata": {
  "kernelspec": {
   "display_name": "Python 3",
   "language": "python",
   "name": "python3"
  },
  "language_info": {
   "codemirror_mode": {
    "name": "ipython",
    "version": 3
   },
   "file_extension": ".py",
   "mimetype": "text/x-python",
   "name": "python",
   "nbconvert_exporter": "python",
   "pygments_lexer": "ipython3",
   "version": "3.7.1"
  }
 },
 "nbformat": 4,
 "nbformat_minor": 2
}
